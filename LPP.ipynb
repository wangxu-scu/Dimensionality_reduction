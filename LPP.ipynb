{
 "cells": [
  {
   "cell_type": "code",
   "execution_count": 1,
   "metadata": {
    "collapsed": true
   },
   "outputs": [],
   "source": [
    "import scipy\n",
    "import numpy as np\n",
    "import numpy.linalg as LA\n",
    "\n",
    "%matplotlib inline\n",
    "import pylab\n",
    "import matplotlib.pyplot as plt\n",
    "from sklearn import neighbors\n",
    "import pdb\n"
   ]
  },
  {
   "cell_type": "markdown",
   "metadata": {},
   "source": [
    "# 数据加载"
   ]
  },
  {
   "cell_type": "code",
   "execution_count": 2,
   "metadata": {
    "collapsed": false
   },
   "outputs": [],
   "source": [
    "import scipy.io as sio\n",
    "\n",
    "def load_Yale_data(randomsplit):\n",
    "    #matlab文件名\n",
    "    matfn=u'face_data/Yale/Yale_32x32.mat'\n",
    "    data=sio.loadmat(matfn)\n",
    "    face = data['fea']\n",
    "    label = data['gnd'] - 1 ### python 从0 开始\n",
    "    face = face  / 255.0\n",
    "\n",
    "    #### 显示第一张图像\n",
    "#     f1 = face[5].reshape((32,32)).T\n",
    "#     pylab.imshow(f1, cmap=plt.cm.gray), pylab.show()\n",
    "\n",
    "    ###  p = 6, randomsplit = 1\n",
    "    matfn = u'face_data/Yale/6Train/'+str(randomsplit)+'.mat'\n",
    "    index = sio.loadmat(matfn)\n",
    "    testIdx = index['testIdx'] -1    ### python 从0 开始\n",
    "    trainIdx = index['trainIdx'] -1  ### python 从0 开始\n",
    "\n",
    "    train_face = face[trainIdx]\n",
    "    test_face = face[testIdx]\n",
    "    train_face = np.squeeze(train_face)  ## 将维度为1去掉\n",
    "    test_face = np.squeeze(test_face)    ## 将维度为1去掉\n",
    "    train_face = train_face.T ### 将数据维度变为: 样本维度 x 样本个数\n",
    "    test_face = test_face.T ### 将数据维度变为: 样本维度 x 样本个数\n",
    "    train_label = np.squeeze(label[trainIdx])\n",
    "    test_label = np.squeeze(label[testIdx])\n",
    "    return train_face, test_face, train_label, test_label\n",
    "\n",
    "def load_ORL_data(randomsplit):\n",
    "    #matlab文件名\n",
    "    matfn=u'face_data/ORL/ORL_32x32.mat'\n",
    "    data=sio.loadmat(matfn)\n",
    "    face = data['fea']\n",
    "    label = data['gnd'] - 1 ### python 从0 开始\n",
    "    face = face  / 255.0\n",
    "\n",
    "    #### 显示第一张图像\n",
    "#     f1 = face[5].reshape((32,32)).T\n",
    "#     pylab.imshow(f1, cmap=plt.cm.gray), pylab.show()\n",
    "\n",
    "    ###  p = 6, randomsplit = 1\n",
    "    matfn = u'face_data/ORL/6Train/'+str(randomsplit)+'.mat'\n",
    "    index = sio.loadmat(matfn)\n",
    "    testIdx = index['testIdx'] -1    ### python 从0 开始\n",
    "    trainIdx = index['trainIdx'] -1  ### python 从0 开始\n",
    "\n",
    "    train_face = face[trainIdx]\n",
    "    test_face = face[testIdx]\n",
    "    train_face = np.squeeze(train_face)  ## 将维度为1去掉\n",
    "    test_face = np.squeeze(test_face)    ## 将维度为1去掉\n",
    "    train_face = train_face.T ### 将数据维度变为: 样本维度 x 样本个数\n",
    "    test_face = test_face.T ### 将数据维度变为: 样本维度 x 样本个数\n",
    "    train_label = np.squeeze(label[trainIdx])\n",
    "    test_label = np.squeeze(label[testIdx])\n",
    "    return train_face, test_face, train_label, test_label"
   ]
  },
  {
   "cell_type": "code",
   "execution_count": null,
   "metadata": {
    "collapsed": true
   },
   "outputs": [],
   "source": []
  },
  {
   "cell_type": "markdown",
   "metadata": {},
   "source": [
    "# LPP"
   ]
  },
  {
   "cell_type": "code",
   "execution_count": 3,
   "metadata": {
    "collapsed": true
   },
   "outputs": [],
   "source": [
    "def EuclideanDistances(A, B):\n",
    "    BT = B.transpose()\n",
    "    # vecProd = A * BT\n",
    "    vecProd = np.dot(A,BT)\n",
    "    # print(vecProd)\n",
    "    SqA =  A**2\n",
    "    # print(SqA)\n",
    "    sumSqA = np.matrix(np.sum(SqA, axis=1))\n",
    "    sumSqAEx = np.tile(sumSqA.transpose(), (1, vecProd.shape[1]))\n",
    "    # print(sumSqAEx)\n",
    "\n",
    "    SqB = B**2\n",
    "    sumSqB = np.sum(SqB, axis=1)\n",
    "    sumSqBEx = np.tile(sumSqB, (vecProd.shape[0], 1))    \n",
    "    SqED = sumSqBEx + sumSqAEx - 2*vecProd\n",
    "    SqED[SqED<0]=0.0   \n",
    "    ED = np.array(np.sqrt(SqED))\n",
    "    return ED               "
   ]
  },
  {
   "cell_type": "code",
   "execution_count": 4,
   "metadata": {
    "collapsed": true
   },
   "outputs": [],
   "source": [
    "def get_neighbors_ind_and_distance(X, K=10):\n",
    "    \"\"\"\n",
    "    Param:\n",
    "        X: M * N matrix\n",
    "        Y: matrix\n",
    "        K: The number of neighbors of each point\n",
    "    \"\"\"    \n",
    "    M, N = X.shape\n",
    "#     X2 = np.sum(X**2, axis=0, keepdims=True)\n",
    "#     distance = np.tile(X2,(N,1))+np.tile(X2.T,(1,N))-2 * np.matmul(X.T, X)\n",
    "    distance = EuclideanDistances(X.T, X.T)\n",
    "    index = np.argsort(distance, axis=0)\n",
    "    neighborhood = index[1:(1+K),:]\n",
    "    return neighborhood, distance"
   ]
  },
  {
   "cell_type": "code",
   "execution_count": 5,
   "metadata": {
    "collapsed": true
   },
   "outputs": [],
   "source": [
    "def get_weight(neighborhood, distance, t=5.0):\n",
    "    N = distance.shape[0]\n",
    "    Weight = np.zeros((N,N))\n",
    "    for i in xrange(N):\n",
    "        d = distance[i][neighborhood[:,i]]\n",
    "        Weight[i][neighborhood[:,i]]= np.exp(-d**2/(4*t))\n",
    "    return Weight  "
   ]
  },
  {
   "cell_type": "code",
   "execution_count": 33,
   "metadata": {
    "collapsed": true
   },
   "outputs": [],
   "source": [
    "def get_degree_and_Laplacian_matrix(W):\n",
    "    D = np.sum(W, axis=0) ### 按行相加\n",
    "    D = np.diag(D)\n",
    "    L = D - W \n",
    "    return D, L"
   ]
  },
  {
   "cell_type": "code",
   "execution_count": 67,
   "metadata": {
    "collapsed": true
   },
   "outputs": [],
   "source": [
    "def get_projections2(X, L, D, d):\n",
    "    #######先进行SVD分解\n",
    "    r = np.linalg.matrix_rank(np.matmul(X, X.T))\n",
    "    P = get_U(X)\n",
    "    X_tilde = np.matmul(P.T, X)\n",
    "    \n",
    "    A = np.matmul(np.matmul(X_tilde, L), X_tilde.T)\n",
    "    B = np.matmul(np.matmul(X_tilde, D), X_tilde.T)\n",
    "    \n",
    "    S, U = LA.eig(B)\n",
    "    S_minus_half = np.zeros_like(S)\n",
    "    S_minus_half[np.argwhere(S>0)] = S[np.argwhere(S>0)]**(-1/2)\n",
    "    S_minus_half = np.diag(S_minus_half)\n",
    "    W = np.matmul(S_minus_half, U.T)\n",
    "    W = np.matmul(W, A)\n",
    "    W = np.matmul(W, U)\n",
    "    W = np.matmul(W, S_minus_half)\n",
    "    eigenvalues, eigenvectors = LA.eig(W)\n",
    "    eigValInd = np.argsort(eigenvalues)\n",
    "    eigenvectors = eigenvectors[:,eigValInd]\n",
    "    A = np.matmul(np.matmul(U, S_minus_half), eigenvectors)\n",
    "    return np.matmul(P, A[:,0:d])"
   ]
  },
  {
   "cell_type": "code",
   "execution_count": 35,
   "metadata": {
    "collapsed": true
   },
   "outputs": [],
   "source": [
    "def get_U(X):\n",
    "    r = np.linalg.matrix_rank(X)\n",
    "    U, S, V = LA.svd(X, full_matrices=True)\n",
    "    U = U[:,0:r]\n",
    "    return U\n",
    "def get_projections(X, L, D, d):\n",
    "    #######先进行SVD分解\n",
    "    r = np.linalg.matrix_rank(np.matmul(X, X.T))\n",
    "    U = get_U(X)\n",
    "    X_tilde = np.matmul(U.T, X)\n",
    "    \n",
    "    A = np.matmul(np.matmul(X_tilde, L), X_tilde.T)\n",
    "    B = np.matmul(np.matmul(X_tilde, D), X_tilde.T)\n",
    "    \n",
    "    eigenvalue, eigenvector_right = scipy.linalg.eig(A, B)\n",
    "    eigValInd = np.argsort(eigenvalue)\n",
    "    eigValInd = eigValInd[0:d]\n",
    "    eigenvector_right = eigenvector_right[:,eigValInd]\n",
    "    return np.matmul(U, eigenvector_right)"
   ]
  },
  {
   "cell_type": "code",
   "execution_count": 69,
   "metadata": {
    "collapsed": false
   },
   "outputs": [
    {
     "name": "stdout",
     "output_type": "stream",
     "text": [
      "25.3 3.72961123979\n"
     ]
    }
   ],
   "source": [
    "Err_list = []\n",
    "for i in xrange(1,51):\n",
    "    #### 执行LPP降维过程\n",
    "    train_face, test_face, train_label, test_label = load_ORL_data(randomsplit=i)\n",
    "    mn = np.mean(train_face, keepdims=True, axis=1)\n",
    "#     train_face = train_face - mn\n",
    "#     test_face = test_face - mn\n",
    "    neighbor_ind, distance = get_neighbors_ind_and_distance(train_face, K=5)\n",
    "    Weight = get_weight(neighbor_ind, distance, t=5.0)\n",
    "    Weight = np.maximum(Weight, Weight.T)\n",
    "    D, L = get_degree_and_Laplacian_matrix(Weight)\n",
    "    projections = get_projections2(train_face, L, D, d=39)\n",
    "    ### 执行KNN分类过程\n",
    "    ##train数据\n",
    "    lowDim_TrainData = np.matmul(projections.T, train_face)\n",
    "    ##test数据\n",
    "    lowDim_TestData = np.matmul(projections.T, test_face)\n",
    "    clf = neighbors.KNeighborsClassifier(algorithm='auto',n_neighbors=1, weights= 'distance')  \n",
    "    clf.fit(lowDim_TrainData.T, train_label) \n",
    "    \"\"\"测试准确率\"\"\"\n",
    "    acc = np.float(sum(test_label==clf.predict(lowDim_TestData.T))) / len(test_label)\n",
    "    Err_list.append(100.0 - acc*100)\n",
    "print np.mean(Err_list), np.std(Err_list)"
   ]
  },
  {
   "cell_type": "markdown",
   "metadata": {},
   "source": [
    "# Kernel LPP"
   ]
  },
  {
   "cell_type": "code",
   "execution_count": 13,
   "metadata": {
    "collapsed": true
   },
   "outputs": [],
   "source": [
    "def get_K(X1, X2, sigma=10):\n",
    "    \"\"\"\n",
    "    X1: M * N1 matrix\n",
    "    X2: M * N2 matrix\n",
    "    \"\"\"\n",
    "    distance = EuclideanDistances(X1.T, X2.T)\n",
    "    K = np.exp(-distance**2/(2*sigma**2))\n",
    "    return K\n",
    "def get_kernel_projections(K, L, D, d=7):\n",
    "#     U, S, V = LA.svd(K, full_matrices=True)\n",
    "#     K = np.matmul(U.T, K)\n",
    "    A = np.matmul(np.matmul(K, L), K)\n",
    "    B = np.matmul(np.matmul(K, D), K)\n",
    "    eigenvalue, eigenvector_right = scipy.linalg.eig(A, B)\n",
    "    eigValInd=np.argsort(eigenvalue)\n",
    "    eigValInd = eigValInd[0:d]\n",
    "    eigenvector_right = eigenvector_right[:,eigValInd]\n",
    "    return eigenvector_right\n",
    "#     return np.matmul(U, eigenvector_right)"
   ]
  },
  {
   "cell_type": "code",
   "execution_count": 15,
   "metadata": {
    "collapsed": false
   },
   "outputs": [
    {
     "name": "stdout",
     "output_type": "stream",
     "text": [
      "22.975 2.95423424934\n"
     ]
    }
   ],
   "source": [
    "Err_list = []\n",
    "for i in xrange(1, 51):\n",
    "    sigma = 5\n",
    "    train_face, test_face, train_label, test_label = load_ORL_data(randomsplit=i)\n",
    "    neighbor_ind, distance = get_neighbors_ind_and_distance(train_face, K=5)\n",
    "    Weight = get_weight(neighbor_ind, distance, t=5.0)\n",
    "    Weight = np.maximum(Weight, Weight.T)\n",
    "    D, L = get_degree_and_Laplacian_matrix(Weight)\n",
    "    K_train = get_K(train_face, train_face, sigma=sigma)\n",
    "    projections = get_kernel_projections(K_train, L, D, d=39)\n",
    "    K_test = get_K(train_face, test_face, sigma=sigma)\n",
    "    \n",
    "    ### 执行KNN分类过程\n",
    "    ##train数据\n",
    "    lowDim_TrainData = np.matmul(projections.T, K_train)\n",
    "    ##test数据\n",
    "    lowDim_TestData = np.matmul(projections.T, K_test)\n",
    "    clf = neighbors.KNeighborsClassifier(algorithm='auto',n_neighbors=1, weights= 'distance')  \n",
    "    clf.fit(lowDim_TrainData.T, train_label) \n",
    "    \"\"\"测试准确率\"\"\"\n",
    "    acc = np.float(sum(test_label==clf.predict(lowDim_TestData.T))) / len(test_label)\n",
    "    Err_list.append(100.0 - acc*100)\n",
    "print np.mean(Err_list), np.std(Err_list)"
   ]
  },
  {
   "cell_type": "code",
   "execution_count": null,
   "metadata": {
    "collapsed": true
   },
   "outputs": [],
   "source": []
  },
  {
   "cell_type": "markdown",
   "metadata": {},
   "source": [
    "# 2DLPP"
   ]
  },
  {
   "cell_type": "code",
   "execution_count": 18,
   "metadata": {
    "collapsed": true
   },
   "outputs": [],
   "source": [
    "def FrobNorm(X): ###计算X元素与元素间 差 的 Frobenius 范数 \n",
    "    \"\"\"\n",
    "    X: n1 * n2 * N tensor\n",
    "    \"\"\"\n",
    "    n1, n2, N = X.shape\n",
    "    FN = np.zeros((N,N))\n",
    "    for i in xrange(N):\n",
    "        for j in xrange(N):\n",
    "            FN[i,j]= LA.norm(X[:,:,i]-X[:,:,j], ord='fro')\n",
    "    return FN    \n",
    "\n",
    "def get_2D_neighbors_ind_and_distance(X, K=10):\n",
    "    \"\"\"\n",
    "    Param:\n",
    "        X: M * N matrix\n",
    "        Y: matrix\n",
    "        K: The number of neighbors of each point\n",
    "    \"\"\"    \n",
    "    distance = FrobNorm(X)\n",
    "    index = np.argsort(distance, axis=0)\n",
    "    neighborhood = index[1:(1+K),:]\n",
    "    return neighborhood, distance"
   ]
  },
  {
   "cell_type": "code",
   "execution_count": 29,
   "metadata": {
    "collapsed": false
   },
   "outputs": [
    {
     "name": "stdout",
     "output_type": "stream",
     "text": [
      "10.65 2.70404789159\n"
     ]
    }
   ],
   "source": [
    "Err_list = []\n",
    "for i in xrange(1, 51):\n",
    "    train_face, test_face, train_label, test_label = load_ORL_data(randomsplit=i)\n",
    "    ### reshape 数据\n",
    "    train_face_img = train_face.reshape((32, 32, -1))\n",
    "    test_face_img = test_face.reshape((32, 32, -1))\n",
    "\n",
    "    neighbor_ind, distance = get_2D_neighbors_ind_and_distance(train_face_img, K=5)\n",
    "    Weight = get_weight(neighbor_ind, distance, t=5.0)\n",
    "    Weight = np.maximum(Weight, Weight.T)\n",
    "#     Weight = (Weight + Weight.T) / 2.0\n",
    "    D, _ = get_degree_and_Laplacian_matrix(Weight)\n",
    "    l1 = 7\n",
    "    l2 = 7\n",
    "    n1 = train_face_img.shape[0]\n",
    "    n2 = train_face_img.shape[1]\n",
    "    N = train_face_img.shape[2]\n",
    "    # L = np.eye(n1)[:,0:l1] #### 对L进行初始化\n",
    "    L = np.ones((n1, l1))\n",
    "    R = np.eye(n2)[:,0:l2]  #### 对R进行初始化\n",
    "\n",
    "    itera = 10   ## 迭代次数\n",
    "    R_change = []\n",
    "    L_change = []\n",
    "    for i in xrange(itera):\n",
    "        #### flip-flop 的第1步， 给定 L，计算 R\n",
    "        A = np.zeros((n2, n2))\n",
    "        B = np.zeros((n2, n2))\n",
    "        for i in xrange(N):\n",
    "            for j in xrange(N):\n",
    "                if Weight[i,j]==0:\n",
    "                    continue\n",
    "                LL_T = np.matmul(L, L.T)\n",
    "                p = np.matmul((train_face_img[:,:,i] - train_face_img[:,:,j]).T, LL_T)\n",
    "                p = np.matmul(p, (train_face_img[:,:,i] - train_face_img[:,:,j]))\n",
    "                A_tmp = Weight[i,j] * p \n",
    "                A = A + A_tmp\n",
    "            q = np.matmul(train_face_img[:,:,i].T, LL_T)\n",
    "            q = np.matmul(q, train_face_img[:,:,i])\n",
    "            B_tmp = D[i,i] * q\n",
    "            B = B + B_tmp\n",
    "        eigenvalue, eigenvector_right = scipy.linalg.eig(A, B)\n",
    "        eigValInd=np.argsort(eigenvalue)\n",
    "        eigValInd = eigValInd[0:l2]\n",
    "        eigenvector_right = eigenvector_right[:,eigValInd]\n",
    "#         tol_R = LA.norm((eigenvector_right - R), ord='fro')   #### 用以判断 R 是否收敛\n",
    "#         R_change.append(tol_R)\n",
    "        R = eigenvector_right.real\n",
    "\n",
    "        #### flip-flop 的第2步， 给定 R，计算 L\n",
    "        A = np.zeros((n1, n1))\n",
    "        B = np.zeros((n1, n1))\n",
    "        for i in xrange(N):\n",
    "            for j in xrange(N):\n",
    "                if Weight[i,j]==0:\n",
    "                    continue\n",
    "                RR_T = np.matmul(R, R.T)\n",
    "                p = np.matmul((train_face_img[:,:,i] - train_face_img[:,:,j]), RR_T)\n",
    "                p = np.matmul(p, (train_face_img[:,:,i] - train_face_img[:,:,j]).T)\n",
    "                A_tmp = Weight[i,j] * p\n",
    "                A = A + A_tmp\n",
    "            q = np.matmul(train_face_img[:,:,i], RR_T)\n",
    "            q = np.matmul(q, train_face_img[:,:,i].T)\n",
    "            B_tmp = D[i,i] * q\n",
    "            B = B + B_tmp    \n",
    "        eigenvalue, eigenvector_right = scipy.linalg.eig(A, B)\n",
    "        eigValInd=np.argsort(eigenvalue)\n",
    "        eigValInd = eigValInd[0:l1]\n",
    "        eigenvector_right = eigenvector_right[:,eigValInd]\n",
    "#         tol_L = LA.norm((eigenvector_right - L), ord='fro')   #### 用以判断 L 是否收敛\n",
    "#         L_change.append(tol_L)\n",
    "        L = eigenvector_right.real\n",
    "    \n",
    "    ##train数据\n",
    "    N_train = len(train_label)\n",
    "    lowDim_TrainData = np.zeros((l1, l2, N_train))\n",
    "    for i in xrange(N_train):\n",
    "        lowDim_TrainData[:,:,i] = np.matmul(np.matmul(L.T, train_face_img[:,:,i]), R)\n",
    "    ##test数据\n",
    "    N_test = len(test_label)\n",
    "    lowDim_TestData = np.zeros((l1, l2, N_test))\n",
    "    for i in xrange(N_test):\n",
    "        lowDim_TestData[:,:,i] = np.matmul(np.matmul(L.T, test_face_img[:,:,i]), R)\n",
    "\n",
    "    ### 执行KNN分类过程\n",
    "    ##train数据\n",
    "    lowDim_TrainData = lowDim_TrainData.reshape((l1*l2, N_train))\n",
    "    ##test数据\n",
    "    lowDim_TestData = lowDim_TestData.reshape((l1*l2, N_test))\n",
    "    clf = neighbors.KNeighborsClassifier(algorithm='auto',n_neighbors=1, weights= 'distance')  \n",
    "    clf.fit(lowDim_TrainData.T, train_label) \n",
    "    \"\"\"测试准确率\"\"\"\n",
    "    acc = np.float(sum(test_label==clf.predict(lowDim_TestData.T))) / len(test_label)\n",
    "    Err_list.append(100.0 - acc*100)\n",
    "print np.mean(Err_list), np.std(Err_list)\n"
   ]
  },
  {
   "cell_type": "code",
   "execution_count": null,
   "metadata": {
    "collapsed": true
   },
   "outputs": [],
   "source": []
  }
 ],
 "metadata": {
  "kernelspec": {
   "display_name": "Python 2",
   "language": "python",
   "name": "python2"
  },
  "language_info": {
   "codemirror_mode": {
    "name": "ipython",
    "version": 2
   },
   "file_extension": ".py",
   "mimetype": "text/x-python",
   "name": "python",
   "nbconvert_exporter": "python",
   "pygments_lexer": "ipython2",
   "version": "2.7.6"
  }
 },
 "nbformat": 4,
 "nbformat_minor": 0
}

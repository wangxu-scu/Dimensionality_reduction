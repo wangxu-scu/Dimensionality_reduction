{
 "cells": [
  {
   "cell_type": "code",
   "execution_count": 1,
   "metadata": {
    "collapsed": true
   },
   "outputs": [],
   "source": [
    "import scipy\n",
    "import numpy as np\n",
    "import numpy.linalg as LA\n",
    "\n",
    "%matplotlib inline\n",
    "import pylab\n",
    "import matplotlib.pyplot as plt\n",
    "from sklearn import neighbors\n",
    "import pdb\n"
   ]
  },
  {
   "cell_type": "markdown",
   "metadata": {},
   "source": [
    "# 数据加载"
   ]
  },
  {
   "cell_type": "code",
   "execution_count": 2,
   "metadata": {
    "collapsed": false
   },
   "outputs": [],
   "source": [
    "import scipy.io as sio\n",
    "\n",
    "def load_Yale_data(randomsplit):\n",
    "    #matlab文件名\n",
    "    matfn=u'face_data/Yale/Yale_32x32.mat'\n",
    "    data=sio.loadmat(matfn)\n",
    "    face = data['fea']\n",
    "    label = data['gnd'] - 1 ### python 从0 开始\n",
    "    face = face  / 255.0\n",
    "\n",
    "    #### 显示第一张图像\n",
    "#     f1 = face[5].reshape((32,32)).T\n",
    "#     pylab.imshow(f1, cmap=plt.cm.gray), pylab.show()\n",
    "\n",
    "    ###  p = 6, randomsplit = 1\n",
    "    matfn = u'face_data/Yale/6Train/'+str(randomsplit)+'.mat'\n",
    "    index = sio.loadmat(matfn)\n",
    "    testIdx = index['testIdx'] -1    ### python 从0 开始\n",
    "    trainIdx = index['trainIdx'] -1  ### python 从0 开始\n",
    "\n",
    "    train_face = face[trainIdx]\n",
    "    test_face = face[testIdx]\n",
    "    train_face = np.squeeze(train_face)  ## 将维度为1去掉\n",
    "    test_face = np.squeeze(test_face)    ## 将维度为1去掉\n",
    "    train_face = train_face.T ### 将数据维度变为: 样本维度 x 样本个数\n",
    "    test_face = test_face.T ### 将数据维度变为: 样本维度 x 样本个数\n",
    "    train_label = np.squeeze(label[trainIdx])\n",
    "    test_label = np.squeeze(label[testIdx])\n",
    "    return train_face, test_face, train_label, test_label\n",
    "\n",
    "def load_ORL_data(randomsplit):\n",
    "    #matlab文件名\n",
    "    matfn=u'face_data/ORL/ORL_32x32.mat'\n",
    "    data=sio.loadmat(matfn)\n",
    "    face = data['fea']\n",
    "    label = data['gnd'] - 1 ### python 从0 开始\n",
    "    face = face  / 255.0\n",
    "\n",
    "    #### 显示第一张图像\n",
    "#     f1 = face[5].reshape((32,32)).T\n",
    "#     pylab.imshow(f1, cmap=plt.cm.gray), pylab.show()\n",
    "\n",
    "    ###  p = 6, randomsplit = 1\n",
    "    matfn = u'face_data/ORL/6Train/'+str(randomsplit)+'.mat'\n",
    "    index = sio.loadmat(matfn)\n",
    "    testIdx = index['testIdx'] -1    ### python 从0 开始\n",
    "    trainIdx = index['trainIdx'] -1  ### python 从0 开始\n",
    "\n",
    "    train_face = face[trainIdx]\n",
    "    test_face = face[testIdx]\n",
    "    train_face = np.squeeze(train_face)  ## 将维度为1去掉\n",
    "    test_face = np.squeeze(test_face)    ## 将维度为1去掉\n",
    "    train_face = train_face.T ### 将数据维度变为: 样本维度 x 样本个数\n",
    "    test_face = test_face.T ### 将数据维度变为: 样本维度 x 样本个数\n",
    "    train_label = np.squeeze(label[trainIdx])\n",
    "    test_label = np.squeeze(label[testIdx])\n",
    "    return train_face, test_face, train_label, test_label"
   ]
  },
  {
   "cell_type": "code",
   "execution_count": null,
   "metadata": {
    "collapsed": true
   },
   "outputs": [],
   "source": []
  },
  {
   "cell_type": "markdown",
   "metadata": {},
   "source": [
    "# LDE"
   ]
  },
  {
   "cell_type": "code",
   "execution_count": 3,
   "metadata": {
    "collapsed": true
   },
   "outputs": [],
   "source": [
    "def EuclideanDistances(A, B):\n",
    "    BT = B.transpose()\n",
    "    # vecProd = A * BT\n",
    "    vecProd = np.dot(A,BT)\n",
    "    # print(vecProd)\n",
    "    SqA =  A**2\n",
    "    # print(SqA)\n",
    "    sumSqA = np.matrix(np.sum(SqA, axis=1))\n",
    "    sumSqAEx = np.tile(sumSqA.transpose(), (1, vecProd.shape[1]))\n",
    "    # print(sumSqAEx)\n",
    "\n",
    "    SqB = B**2\n",
    "    sumSqB = np.sum(SqB, axis=1)\n",
    "    sumSqBEx = np.tile(sumSqB, (vecProd.shape[0], 1))    \n",
    "    SqED = sumSqBEx + sumSqAEx - 2*vecProd\n",
    "    SqED[SqED<0]=0.0   \n",
    "    ED = np.array(np.sqrt(SqED))\n",
    "    return ED               "
   ]
  },
  {
   "cell_type": "code",
   "execution_count": 4,
   "metadata": {
    "collapsed": true
   },
   "outputs": [],
   "source": [
    "def get_neighbors_ind_and_distance(X, label, K=3, K_bar=3):\n",
    "    \"\"\"\n",
    "    Param:\n",
    "        X: M * N matrix\n",
    "        label: the label\n",
    "        K: The number of neighbors of each point for G  ##  构建同类邻接图 G 的近邻数\n",
    "        K_bar: The number of neighbors of each point for G_bar  ##  构建同类邻接图 G 的近邻数\n",
    "    \"\"\"    \n",
    "    M, N = X.shape\n",
    "    distance = EuclideanDistances(X.T, X.T)\n",
    "    index = np.argsort(distance, axis=0)\n",
    "    neighbor_ind = []\n",
    "    neighbor_bar_ind = []\n",
    "    for i in xrange(len(label)):\n",
    "        index_i = index[:,i]  ### 第 i 个样本的全部邻居\n",
    "        neighbor_ind_i = []    #### 与第i个样本是同类样本且是邻居\n",
    "        neighbor_bar_ind_i = []  #### 与第i个样本不是同类样本且是邻居\n",
    "        for ind in index_i[1:]: #### 从1开始是因为邻居不包括自己\n",
    "            if (len(neighbor_ind_i) < K) and (label[i] == label[ind]):\n",
    "                neighbor_ind_i.append(ind)\n",
    "            if (len(neighbor_bar_ind_i) < K_bar) and (label[i] != label[ind]):\n",
    "                neighbor_bar_ind_i.append(ind)\n",
    "            if (len(neighbor_ind_i) == K) and (len(neighbor_bar_ind_i) == K_bar):\n",
    "                neighbor_ind.append(neighbor_ind_i)\n",
    "                neighbor_bar_ind.append(neighbor_bar_ind_i)\n",
    "                break\n",
    "    return neighbor_ind, neighbor_bar_ind, distance"
   ]
  },
  {
   "cell_type": "code",
   "execution_count": 5,
   "metadata": {
    "collapsed": true
   },
   "outputs": [],
   "source": [
    "def get_weight(neighbor_ind, neighbor_bar_ind, distance, t=5.0):\n",
    "    N = distance.shape[0]\n",
    "    Weight = np.zeros((N,N))\n",
    "    Weight_bar = np.zeros((N,N))\n",
    "    for i in xrange(N):\n",
    "        d = distance[i][neighbor_ind[i]]\n",
    "        Weight[i][neighbor_ind[i]]= np.exp(-d**2/(t))\n",
    "        d_bar = distance[i][neighbor_bar_ind[i]]\n",
    "        Weight_bar[i][neighbor_bar_ind[i]]= np.exp(-d_bar**2/t)\n",
    "    return Weight, Weight_bar  "
   ]
  },
  {
   "cell_type": "code",
   "execution_count": 6,
   "metadata": {
    "collapsed": true
   },
   "outputs": [],
   "source": [
    "def get_Laplacian_matrix(W, W_bar):\n",
    "    D = np.sum(W, axis=1) ### 按行相加\n",
    "    D = np.diag(D)\n",
    "    L = D - W \n",
    "    D_bar = np.sum(W_bar, axis=1) ### 按行相加\n",
    "    D_bar = np.diag(D_bar)\n",
    "    L_bar = D_bar - W_bar \n",
    "    return L, L_bar"
   ]
  },
  {
   "cell_type": "code",
   "execution_count": 7,
   "metadata": {
    "collapsed": true
   },
   "outputs": [],
   "source": [
    "def get_projections2(X, L, L_bar, d=7):\n",
    "    A = np.matmul(np.matmul(X, L_bar), X.T)\n",
    "    B = np.matmul(np.matmul(X, L), X.T)\n",
    "    eigenvalue, eigenvector_right = scipy.linalg.eig(A, B)\n",
    "    eigValInd=np.argsort(eigenvalue)\n",
    "    eigValInd = eigValInd[::-1][0:d]\n",
    "    eigenvector_right = eigenvector_right[:,eigValInd]\n",
    "    return eigenvector_right"
   ]
  },
  {
   "cell_type": "code",
   "execution_count": 8,
   "metadata": {
    "collapsed": true
   },
   "outputs": [],
   "source": [
    "def get_U(X):\n",
    "    r = np.linalg.matrix_rank(X)\n",
    "    U, S, V = LA.svd(X, full_matrices=True)\n",
    "    U = U[:,0:r]\n",
    "    return U\n",
    "def get_projections(X, L, L_bar, d=7):\n",
    "    #######先进行SVD分解\n",
    "    r = np.linalg.matrix_rank(np.matmul(X, X.T))\n",
    "    U = get_U(X)\n",
    "    X_tilde = np.matmul(U.T, X)\n",
    "    \n",
    "    A = np.matmul(np.matmul(X_tilde, L_bar), X_tilde.T)\n",
    "    B = np.matmul(np.matmul(X_tilde, L), X_tilde.T)\n",
    "    eigenvalue, eigenvector_right = scipy.linalg.eig(A, B)\n",
    "    eigValInd=np.argsort(eigenvalue)\n",
    "    eigValInd = eigValInd[::-1][0:d]\n",
    "    eigenvector_right = eigenvector_right[:,eigValInd]\n",
    "    return np.matmul(U, eigenvector_right)"
   ]
  },
  {
   "cell_type": "code",
   "execution_count": 100,
   "metadata": {
    "collapsed": false
   },
   "outputs": [
    {
     "name": "stdout",
     "output_type": "stream",
     "text": [
      "3.2625 1.5626999872\n"
     ]
    }
   ],
   "source": [
    "Err_list = []\n",
    "for i in xrange(1,51):\n",
    "    #### 执行LDE降维过程\n",
    "    train_face, test_face, train_label, test_label = load_ORL_data(randomsplit=i)\n",
    "    mn = np.mean(train_face, keepdims=True, axis=1)\n",
    "    train_face = train_face - mn\n",
    "    test_face = test_face - mn\n",
    "    neighbor_ind, neighbor_bar_ind, distance = get_neighbors_ind_and_distance(train_face, train_label, K=5, K_bar=5)\n",
    "    Weight, Weight_bar = get_weight(neighbor_ind, neighbor_bar_ind, distance, t=5)\n",
    "    Weight = np.maximum(Weight, Weight.T)\n",
    "    Weight_bar = np.maximum(Weight_bar, Weight_bar.T)\n",
    "    L, L_bar = get_Laplacian_matrix(Weight, Weight_bar)\n",
    "    projections = get_projections(train_face, L, L_bar, d=39)\n",
    "    ### 执行KNN分类过程\n",
    "    ##train数据\n",
    "    lowDim_TrainData = np.matmul(projections.T, train_face)\n",
    "    ##test数据\n",
    "    lowDim_TestData = np.matmul(projections.T, test_face)\n",
    "    clf = neighbors.KNeighborsClassifier(algorithm='auto',n_neighbors=1, weights= 'distance')  \n",
    "    clf.fit(lowDim_TrainData.T, train_label) \n",
    "    \"\"\"测试准确率\"\"\"\n",
    "    acc = np.float(sum(test_label==clf.predict(lowDim_TestData.T))) / len(test_label)\n",
    "    Err_list.append(100.0 - acc*100)\n",
    "print np.mean(Err_list), np.std(Err_list)"
   ]
  },
  {
   "cell_type": "markdown",
   "metadata": {},
   "source": [
    "# Kernel LDE"
   ]
  },
  {
   "cell_type": "code",
   "execution_count": 30,
   "metadata": {
    "collapsed": true
   },
   "outputs": [],
   "source": [
    "def get_K(X1, X2, sigma=10):\n",
    "    \"\"\"\n",
    "    X1: M * N1 matrix\n",
    "    X2: M * N2 matrix\n",
    "    \"\"\"\n",
    "    distance = EuclideanDistances(X1.T, X2.T)\n",
    "    K = np.exp(-distance**2/(2*sigma**2))\n",
    "    return K\n",
    "def get_kernel_projections(K, L, L_bar, d=7):\n",
    "#     U, S, V = LA.svd(K, full_matrices=True)\n",
    "#     K = np.matmul(U.T, K)\n",
    "    A = np.matmul(np.matmul(K, L_bar), K)\n",
    "    B = np.matmul(np.matmul(K, L), K)\n",
    "    eigenvalue, eigenvector_right = scipy.linalg.eig(A, B)\n",
    "    eigValInd=np.argsort(eigenvalue)\n",
    "    eigValInd = eigValInd[::-1][0:d]\n",
    "    eigenvector_right = eigenvector_right[:,eigValInd]\n",
    "    return eigenvector_right\n",
    "#     return np.matmul(U, eigenvector_right)"
   ]
  },
  {
   "cell_type": "code",
   "execution_count": 103,
   "metadata": {
    "collapsed": false
   },
   "outputs": [
    {
     "name": "stdout",
     "output_type": "stream",
     "text": [
      "5.2125 2.42580527867\n"
     ]
    }
   ],
   "source": [
    "Err_list = []\n",
    "for i in xrange(1,51):\n",
    "    #### 执行Kernel LDE降维过程\n",
    "    sigma = 5.0\n",
    "    train_face, test_face, train_label, test_label = load_ORL_data(randomsplit=i)\n",
    "    neighbor_ind, neighbor_bar_ind, distance = get_neighbors_ind_and_distance(train_face, train_label, K=5, K_bar=5)\n",
    "    Weight, Weight_bar = get_weight(neighbor_ind, neighbor_bar_ind, distance, t=5)\n",
    "    Weight = np.maximum(Weight, Weight.T)\n",
    "    Weight_bar = np.maximum(Weight_bar, Weight_bar.T)\n",
    "    L, L_bar = get_Laplacian_matrix(Weight, Weight_bar)\n",
    "    K_train = get_K(train_face, train_face, sigma=sigma)\n",
    "    projections = get_kernel_projections(K_train, L, L_bar, d=39)\n",
    "    K_test = get_K(train_face, test_face, sigma=sigma)\n",
    "    ### 执行KNN分类过程\n",
    "    ##train数据\n",
    "    lowDim_TrainData = np.matmul(projections.T, K_train)\n",
    "    ##test数据\n",
    "    lowDim_TestData = np.matmul(projections.T, K_test)\n",
    "    clf = neighbors.KNeighborsClassifier(algorithm='auto',n_neighbors=1, weights= 'distance')  \n",
    "    clf.fit(lowDim_TrainData.T, train_label) \n",
    "    \"\"\"测试准确率\"\"\"\n",
    "    acc = np.float(sum(test_label==clf.predict(lowDim_TestData.T))) / len(test_label)\n",
    "    Err_list.append(100.0 - acc*100)\n",
    "print np.mean(Err_list), np.std(Err_list)"
   ]
  },
  {
   "cell_type": "code",
   "execution_count": null,
   "metadata": {
    "collapsed": true
   },
   "outputs": [],
   "source": []
  },
  {
   "cell_type": "markdown",
   "metadata": {},
   "source": [
    "# 2DLDE"
   ]
  },
  {
   "cell_type": "code",
   "execution_count": 95,
   "metadata": {
    "collapsed": true
   },
   "outputs": [],
   "source": [
    "def FrobNorm(X): ###计算X元素与元素间 差 的 Frobenius 范数 \n",
    "    \"\"\"\n",
    "    X: n1 * n2 * N tensor\n",
    "    \"\"\"\n",
    "    n1, n2, N = X.shape\n",
    "    FN = np.zeros((N,N))\n",
    "    for i in xrange(N):\n",
    "        for j in xrange(N):\n",
    "            FN[i,j]= LA.norm(X[:,:,i]-X[:,:,j], ord='fro')\n",
    "    return FN    \n",
    "\n",
    "def get_2D_neighbors_ind_and_distance(X, label, K=3, K_bar=3):\n",
    "    \"\"\"\n",
    "    Param:\n",
    "        X: n1 * n2 * N tensor\n",
    "        label: the label\n",
    "        K: The number of neighbors of each point for G  ##  构建同类邻接图 G 的近邻数\n",
    "        K_bar: The number of neighbors of each point for G_bar  ##  构建同类邻接图 G 的近邻数\n",
    "    \"\"\"    \n",
    "    n1, n2, N = X.shape\n",
    "    distance = FrobNorm(X)\n",
    "    index = np.argsort(distance, axis=0)\n",
    "    neighbor_ind = []\n",
    "    neighbor_bar_ind = []\n",
    "    for i in xrange(len(label)):\n",
    "        index_i = index[:,i]  ### 第 i 个样本的全部邻居\n",
    "        neighbor_ind_i = []    #### 与第i个样本是同类样本且是邻居\n",
    "        neighbor_bar_ind_i = []  #### 与第i个样本不是同类样本且是邻居\n",
    "        for ind in index_i[1:]: #### 从1开始是因为邻居不包括自己\n",
    "            if (len(neighbor_ind_i) < K) and (label[i] == label[ind]):\n",
    "                neighbor_ind_i.append(ind)\n",
    "            if (len(neighbor_bar_ind_i) < K_bar) and (label[i] != label[ind]):\n",
    "                neighbor_bar_ind_i.append(ind)\n",
    "            if (len(neighbor_ind_i) == K) and (len(neighbor_bar_ind_i) == K_bar):\n",
    "                neighbor_ind.append(neighbor_ind_i)\n",
    "                neighbor_bar_ind.append(neighbor_bar_ind_i)\n",
    "                break\n",
    "    return neighbor_ind, neighbor_bar_ind, distance"
   ]
  },
  {
   "cell_type": "code",
   "execution_count": 119,
   "metadata": {
    "collapsed": false
   },
   "outputs": [
    {
     "name": "stdout",
     "output_type": "stream",
     "text": [
      "4.025 1.3645054049\n"
     ]
    }
   ],
   "source": [
    "Err_list = []\n",
    "for i in xrange(1, 51):\n",
    "    train_face, test_face, train_label, test_label = load_ORL_data(randomsplit=i)\n",
    "    ### reshape 数据\n",
    "    train_face_img = train_face.reshape((32, 32, -1))\n",
    "    test_face_img = test_face.reshape((32, 32, -1))\n",
    "\n",
    "    neighbor_ind, neighbor_bar_ind, distance = get_2D_neighbors_ind_and_distance(train_face_img, train_label, K=5, K_bar=5)\n",
    "    Weight, Weight_bar = get_weight(neighbor_ind, neighbor_bar_ind, distance, t=5)\n",
    "\n",
    "    l1 = 7\n",
    "    l2 = 7\n",
    "    n1 = train_face_img.shape[0]\n",
    "    n2 = train_face_img.shape[1]\n",
    "    N = train_face_img.shape[2]\n",
    "    # L = np.eye(n1)[:,0:l1] #### 对L进行初始化\n",
    "    L = np.ones((n1, l1))\n",
    "    R = np.eye(n2)[:,0:l2]  #### 对R进行初始化\n",
    "\n",
    "    itera = 10   ## 迭代次数\n",
    "    R_change = []\n",
    "    L_change = []\n",
    "    for i in xrange(itera):\n",
    "        #### flip-flop 的第1步， 给定 L，计算 R\n",
    "        A = np.zeros((n2, n2))\n",
    "        B = np.zeros((n2, n2))\n",
    "        for i in xrange(N):\n",
    "            for j in xrange(N):\n",
    "                if (Weight[i,j] == 0) and (Weight_bar[i,j] == 0):\n",
    "                    continue\n",
    "                LL_T = np.matmul(L, L.T)\n",
    "                p = np.matmul((train_face_img[:,:,i] - train_face_img[:,:,j]).T, LL_T)\n",
    "                p = np.matmul(p, (train_face_img[:,:,i] - train_face_img[:,:,j]))\n",
    "                A_tmp = Weight_bar[i,j] * p\n",
    "                B_tmp = Weight[i,j] * p\n",
    "                A = A + A_tmp\n",
    "                B = B + B_tmp\n",
    "        eigenvalue, eigenvector_right = scipy.linalg.eig(A, B)\n",
    "        eigValInd=np.argsort(eigenvalue)\n",
    "        eigValInd = eigValInd[::-1][0:l2]\n",
    "        eigenvector_right = eigenvector_right[:,eigValInd]\n",
    "        tol_R = LA.norm((eigenvector_right - R), ord='fro')   #### 用以判断 R 是否收敛\n",
    "        R_change.append(tol_R)\n",
    "        R = eigenvector_right\n",
    "\n",
    "        #### flip-flop 的第2步， 给定 R，计算 L\n",
    "        A = np.zeros((n1, n1))\n",
    "        B = np.zeros((n1, n1))\n",
    "        for i in xrange(N):\n",
    "            for j in xrange(N):\n",
    "                if (Weight[i,j] == 0) and (Weight_bar[i,j] == 0):\n",
    "                    continue\n",
    "                RR_T = np.matmul(R, R.T)\n",
    "                p = np.matmul((train_face_img[:,:,i] - train_face_img[:,:,j]), RR_T)\n",
    "                p = np.matmul(p, (train_face_img[:,:,i] - train_face_img[:,:,j]).T)\n",
    "                A_tmp = Weight_bar[i,j] * p\n",
    "                B_tmp = Weight[i,j] * p\n",
    "                A = A + A_tmp\n",
    "                B = B + B_tmp\n",
    "        eigenvalue, eigenvector_right = scipy.linalg.eig(A, B)\n",
    "        eigValInd=np.argsort(eigenvalue)\n",
    "        eigValInd = eigValInd[::-1][0:l1]\n",
    "        eigenvector_right = eigenvector_right[:,eigValInd]\n",
    "        tol_L = LA.norm((eigenvector_right - L), ord='fro')   #### 用以判断 L 是否收敛\n",
    "        L_change.append(tol_L)\n",
    "        L = eigenvector_right\n",
    "    \n",
    "    ##train数据\n",
    "    N_train = len(train_label)\n",
    "    lowDim_TrainData = np.zeros((l1, l2, N_train))\n",
    "    for i in xrange(N_train):\n",
    "        lowDim_TrainData[:,:,i] = np.matmul(np.matmul(L.T, train_face_img[:,:,i]), R)\n",
    "    ##test数据\n",
    "    N_test = len(test_label)\n",
    "    lowDim_TestData = np.zeros((l1, l2, N_test))\n",
    "    for i in xrange(N_test):\n",
    "        lowDim_TestData[:,:,i] = np.matmul(np.matmul(L.T, test_face_img[:,:,i]), R)\n",
    "\n",
    "    ### 执行KNN分类过程\n",
    "    ##train数据\n",
    "    lowDim_TrainData = lowDim_TrainData.reshape((l1*l2, N_train))\n",
    "    ##test数据\n",
    "    lowDim_TestData = lowDim_TestData.reshape((l1*l2, N_test))\n",
    "    clf = neighbors.KNeighborsClassifier(algorithm='auto',n_neighbors=1, weights= 'distance')  \n",
    "    clf.fit(lowDim_TrainData.T, train_label) \n",
    "    \"\"\"测试准确率\"\"\"\n",
    "    acc = np.float(sum(test_label==clf.predict(lowDim_TestData.T))) / len(test_label)\n",
    "    Err_list.append(100.0 - acc*100)\n",
    "print np.mean(Err_list), np.std(Err_list)\n"
   ]
  },
  {
   "cell_type": "code",
   "execution_count": null,
   "metadata": {
    "collapsed": true
   },
   "outputs": [],
   "source": []
  }
 ],
 "metadata": {
  "kernelspec": {
   "display_name": "Python 2",
   "language": "python",
   "name": "python2"
  },
  "language_info": {
   "codemirror_mode": {
    "name": "ipython",
    "version": 2
   },
   "file_extension": ".py",
   "mimetype": "text/x-python",
   "name": "python",
   "nbconvert_exporter": "python",
   "pygments_lexer": "ipython2",
   "version": "2.7.6"
  }
 },
 "nbformat": 4,
 "nbformat_minor": 0
}

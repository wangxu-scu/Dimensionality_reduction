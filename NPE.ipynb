{
 "cells": [
  {
   "cell_type": "code",
   "execution_count": 1,
   "metadata": {
    "collapsed": true
   },
   "outputs": [],
   "source": [
    "import scipy\n",
    "import numpy as np\n",
    "import numpy.linalg as LA\n",
    "from load_mnist import loadImageSet, loadLabelSet\n",
    "\n",
    "%matplotlib inline\n",
    "import pylab\n",
    "import matplotlib.pyplot as plt\n",
    "from sklearn import neighbors\n",
    "import pdb\n"
   ]
  },
  {
   "cell_type": "code",
   "execution_count": 66,
   "metadata": {
    "collapsed": true
   },
   "outputs": [],
   "source": [
    "#### Options\n",
    "class Options(object):\n",
    "    K = 50\n",
    "    d = 39\n",
    "    KNN_neighbor = 1\n",
    "options = Options()    "
   ]
  },
  {
   "cell_type": "markdown",
   "metadata": {},
   "source": [
    "# 数据加载"
   ]
  },
  {
   "cell_type": "code",
   "execution_count": 4,
   "metadata": {
    "collapsed": false
   },
   "outputs": [],
   "source": [
    "import scipy.io as sio\n",
    "\n",
    "#matlab文件名\n",
    "matfn=u'face_data/ORL/ORL_32x32.mat'\n",
    "data=sio.loadmat(matfn)\n",
    "face = data['fea']\n",
    "label = data['gnd'] - 1 ### python 从0 开始\n",
    "face = (face - face.min()) / float(face.max()-face.min())\n",
    "\n",
    "#### 显示第一张图像\n",
    "f1 = face[5].reshape((32,32)).T\n",
    "pylab.imshow(f1, cmap=plt.cm.gray), pylab.show()\n",
    "\n",
    "###  l = 3, randomsplit = 2\n",
    "matfn = u'face_data/ORL/3Train/2.mat'\n",
    "index = sio.loadmat(matfn)\n",
    "testIdx = index['testIdx'] -1    ### python 从0 开始\n",
    "trainIdx = index['trainIdx'] -1  ### python 从0 开始\n",
    "\n",
    "train_face = face[trainIdx]\n",
    "test_face = face[testIdx]\n",
    "train_face = np.squeeze(train_face)  ## 将维度为1去掉\n",
    "test_face = np.squeeze(test_face)    ## 将维度为1去掉\n",
    "train_face = train_face.T ### 将数据维度变为: 样本维度 x 样本个数\n",
    "test_face = test_face.T ### 将数据维度变为: 样本维度 x 样本个数\n",
    "train_label = np.squeeze(label[trainIdx])\n",
    "test_label = np.squeeze(label[testIdx])"
   ]
  },
  {
   "cell_type": "code",
   "execution_count": 126,
   "metadata": {
    "collapsed": false
   },
   "outputs": [
    {
     "name": "stdout",
     "output_type": "stream",
     "text": [
      "0.8\n"
     ]
    }
   ],
   "source": [
    "#### BaseLine\n",
    "clf = neighbors.KNeighborsClassifier(algorithm='auto',n_neighbors=1, weights= 'distance')  \n",
    "clf.fit(train_face.T, train_label) \n",
    "\"\"\"测试准确率\"\"\"\n",
    "acc = np.float(sum(test_label==clf.predict(test_face.T))) / len(test_label)\n",
    "print acc"
   ]
  },
  {
   "cell_type": "markdown",
   "metadata": {},
   "source": [
    "# 可视化函数"
   ]
  },
  {
   "cell_type": "code",
   "execution_count": 9,
   "metadata": {
    "collapsed": false
   },
   "outputs": [],
   "source": [
    "#%%\n",
    "# 将降维后的数据可视化,2维\n",
    "def plot_embedding_2d(X, y, title=None):\n",
    "    #坐标缩放到[0,1]区间\n",
    "    x_min, x_max = np.min(X,axis=0), np.max(X,axis=0)\n",
    "    X = (X - x_min) / (x_max - x_min)\n",
    "\n",
    "    #降维后的坐标为（X[i, 0], X[i, 1]），在该位置画出对应的digits\n",
    "    fig = plt.figure()\n",
    "#     plt.axis([-2000, 2000,-2000,2000])\n",
    "    ax = fig.add_subplot(1, 1, 1)\n",
    "    for i in range(X.shape[0]):\n",
    "        ax.text(X[i, 0], X[i, 1],str(y[i]),\n",
    "                 color=plt.cm.Set1(y[i] / 10.),\n",
    "                 fontdict={'weight': 'bold', 'size': 9})\n",
    "\n",
    "    if title is not None:\n",
    "        plt.title(title)\n",
    "#         plt.savefig(title.replace(' ','_')+\".png\") "
   ]
  },
  {
   "cell_type": "markdown",
   "metadata": {},
   "source": [
    "# 进行NPE降维需要的函数"
   ]
  },
  {
   "cell_type": "code",
   "execution_count": 10,
   "metadata": {
    "collapsed": true
   },
   "outputs": [],
   "source": [
    "def EuclideanDistances(A, B):\n",
    "    BT = B.transpose()\n",
    "    # vecProd = A * BT\n",
    "    vecProd = np.dot(A,BT)\n",
    "    # print(vecProd)\n",
    "    SqA =  A**2\n",
    "    # print(SqA)\n",
    "    sumSqA = np.matrix(np.sum(SqA, axis=1))\n",
    "    sumSqAEx = np.tile(sumSqA.transpose(), (1, vecProd.shape[1]))\n",
    "    # print(sumSqAEx)\n",
    "\n",
    "    SqB = B**2\n",
    "    sumSqB = np.sum(SqB, axis=1)\n",
    "    sumSqBEx = np.tile(sumSqB, (vecProd.shape[0], 1))    \n",
    "    SqED = sumSqBEx + sumSqAEx - 2*vecProd\n",
    "    SqED[SqED<0]=0.0   \n",
    "    ED = np.array(np.sqrt(SqED))\n",
    "    return ED"
   ]
  },
  {
   "cell_type": "code",
   "execution_count": 11,
   "metadata": {
    "collapsed": false
   },
   "outputs": [],
   "source": [
    "def get_neighbors_ind(X, K=10):\n",
    "    \"\"\"\n",
    "    Param:\n",
    "        X: M * N matrix\n",
    "        Y: matrix\n",
    "        K: The number of neighbors of each point\n",
    "    \"\"\"    \n",
    "#     M, N = X.shape\n",
    "#     X2 = np.sum(X**2, axis=0, keepdims=True)\n",
    "#     distance = np.tile(X2,(N,1))+np.tile(X2.T,(1,N))-2 * np.matmul(X.T, X)\n",
    "    distance = EuclideanDistances(X.T, X.T)\n",
    "    index = np.argsort(distance, axis=0)\n",
    "    neighborhood = index[1:(1+K),:]                                    \n",
    "    return neighborhood"
   ]
  },
  {
   "cell_type": "code",
   "execution_count": 12,
   "metadata": {
    "collapsed": true
   },
   "outputs": [],
   "source": [
    "def get_neighbors_ind2(X, K=10):\n",
    "    \"\"\"\n",
    "    Param:\n",
    "        X: M * N matrix\n",
    "        Y: matrix\n",
    "        K: The number of neighbors of each point\n",
    "    \"\"\"    \n",
    "    M, N = X.shape\n",
    "    X2 = np.sum(X**2, axis=0, keepdims=True)\n",
    "    distance = np.tile(X2,(N,1))+np.tile(X2.T,(1,N))-2 * np.matmul(X.T, X)\n",
    "#     distance = EuclideanDistances(X.T, X.T)\n",
    "    index = np.argsort(distance, axis=0)\n",
    "    neighborhood = index[1:(1+K),:]                                    \n",
    "    return neighborhood"
   ]
  },
  {
   "cell_type": "code",
   "execution_count": 13,
   "metadata": {
    "collapsed": false
   },
   "outputs": [],
   "source": [
    "def get_weight(X, neighborhood):\n",
    "    M, N = X.shape\n",
    "    K = neighborhood.shape[0]\n",
    "    if K > M:\n",
    "        tol=1e-3\n",
    "    else:\n",
    "        tol=0\n",
    "    W = np.zeros((N, N))\n",
    "    for i in xrange(N):\n",
    "        z = X[:,neighborhood[:,i]] - np.expand_dims(X[:,i], 1)\n",
    "        G = np.matmul(z.T, z)\n",
    "        G = G + np.identity(K) * tol * np.trace(G)\n",
    "        \n",
    "        G_I = LA.inv(G)\n",
    "        W[i,neighborhood[:,i]] = np.matmul(G_I, np.ones(K))  # np.matmul(G_I, np.ones(K)) 的结果是一个列向量，我们将其放在W的行中\n",
    "        W[i,neighborhood[:,i]] = W[i, neighborhood[:,i]] / np.sum(W[i,:])  \n",
    "#         W[:,i]=np.sum(G_I, axis=1) / np.sum(G_I)\n",
    "    return W   "
   ]
  },
  {
   "cell_type": "code",
   "execution_count": 14,
   "metadata": {
    "collapsed": true
   },
   "outputs": [],
   "source": [
    "def get_M(W):\n",
    "    N = W.shape[1]\n",
    "    I = np.identity(N)\n",
    "    M = np.matmul((I-W.T),(I-W))\n",
    "    return M"
   ]
  },
  {
   "cell_type": "code",
   "execution_count": 15,
   "metadata": {
    "collapsed": true
   },
   "outputs": [],
   "source": [
    "def get_projections2(X, M):\n",
    "    L = np.matmul(np.matmul(X, M), X.T)\n",
    "    D = np.matmul(X, X.T)\n",
    "    eigenvalue, eigenvector_right = scipy.linalg.eig(L, D)\n",
    "    eigValInd=np.argsort(eigenvalue)\n",
    "    eigenvector_right = eigenvector_right[:,eigValInd]\n",
    "    return eigenvector_right"
   ]
  },
  {
   "cell_type": "code",
   "execution_count": 16,
   "metadata": {
    "collapsed": true
   },
   "outputs": [],
   "source": [
    "def get_U(X):\n",
    "    r = np.linalg.matrix_rank(X)\n",
    "    U, S, V = LA.svd(X, full_matrices=True)\n",
    "    U = U[:,0:r]\n",
    "    return U"
   ]
  },
  {
   "cell_type": "code",
   "execution_count": 21,
   "metadata": {
    "collapsed": false
   },
   "outputs": [],
   "source": [
    "def get_projections(X, M):\n",
    "    #######这里先进行SVD分解会得到更好的效果\n",
    "    r = np.linalg.matrix_rank(np.matmul(X, X.T))\n",
    "#     if r < min(X.shape):  #### if XX^{T}是奇异矩阵\n",
    "    U = get_U(X)\n",
    "    X_tilde = np.matmul(U.T, X)\n",
    "    L = np.matmul(np.array(np.matrix(np.matmul(X_tilde, X_tilde.T)).I), np.matmul(np.matmul(X_tilde, M), X_tilde.T))\n",
    "    eigenValues, eigenVectors = LA.eig(L)\n",
    "    eigValInd=np.argsort(eigenValues)\n",
    "    eigenVectors = eigenVectors[:,eigValInd]\n",
    "    return np.matmul(eigenVectors.T, U.T)\n",
    "#     else:                               #### if XX^{T}是非奇异矩阵\n",
    "#         L = np.matmul(np.array(np.matrix(np.matmul(X, X.T)).I), np.matmul(np.matmul(X, M), X.T))\n",
    "#         eigenValues, eigenVectors = LA.eig(L)\n",
    "#         eigValInd=np.argsort(eigenValues)\n",
    "#         eigenVectors = eigenVectors[:,eigValInd]\n",
    "#         return eigenVectors.T "
   ]
  },
  {
   "cell_type": "markdown",
   "metadata": {},
   "source": [
    "# NPE降维"
   ]
  },
  {
   "cell_type": "code",
   "execution_count": 145,
   "metadata": {
    "collapsed": false
   },
   "outputs": [
    {
     "data": {
      "image/png": "[encoded data removed]",
      "text/plain": [
       "<matplotlib.figure.Figure at 0x7f1e6ff49bd0>"
      ]
     },
     "metadata": {},
     "output_type": "display_data"
    },
    {
     "data": {
      "image/png": "[encoded data removed]",
      "text/plain": [
       "<matplotlib.figure.Figure at 0x7f1e6f29f0d0>"
      ]
     },
     "metadata": {},
     "output_type": "display_data"
    },
    {
     "name": "stdout",
     "output_type": "stream",
     "text": [
      "0.734375\n"
     ]
    }
   ],
   "source": [
    "import scipy.io as sio\n",
    "\n",
    "#matlab文件名\n",
    "matfn=u'face_data/ORL/ORL_32x32.mat'\n",
    "data=sio.loadmat(matfn)\n",
    "face = data['fea']\n",
    "label = data['gnd'] - 1 ### python 从0 开始\n",
    "face = (face - face.min()) / float(face.max()-face.min())\n",
    "\n",
    "#### 显示第一张图像\n",
    "f1 = face[5].reshape((32,32)).T\n",
    "pylab.imshow(f1, cmap=plt.cm.gray), pylab.show()\n",
    "\n",
    "###  l = 2, randomsplit = 1\n",
    "matfn = u'face_data/ORL/2Train/5.mat'\n",
    "index = sio.loadmat(matfn)\n",
    "testIdx = index['testIdx'] -1    ### python 从0 开始\n",
    "trainIdx = index['trainIdx'] -1  ### python 从0 开始\n",
    "\n",
    "train_face = face[trainIdx]\n",
    "test_face = face[testIdx]\n",
    "train_face = np.squeeze(train_face)  ## 将维度为1去掉\n",
    "test_face = np.squeeze(test_face)    ## 将维度为1去掉\n",
    "train_face = train_face.T ### 将数据维度变为: 样本维度 x 样本个数\n",
    "test_face = test_face.T ### 将数据维度变为: 样本维度 x 样本个数\n",
    "train_label = np.squeeze(label[trainIdx])\n",
    "test_label = np.squeeze(label[testIdx])\n",
    "\n",
    "\n",
    "options.K = 49\n",
    "options.d = 39\n",
    "train_x_neighbor = get_neighbors_ind(train_face, K=options.K)\n",
    "W = get_weight(train_face, train_x_neighbor)\n",
    "W = np.maximum(W, W.T)\n",
    "M = get_M(W)\n",
    "M = np.maximum(M, M.T)\n",
    "projections = get_projections(train_face, M)[0:options.d, :]\n",
    "\n",
    "fig = pylab.figure()\n",
    "for i in range(6):\n",
    "    p = projections[i].reshape((32,32)).T\n",
    "    fig.add_subplot(1, 6, i+1)\n",
    "    pylab.imshow(p, cmap=plt.cm.gray)\n",
    "    pylab.axis('off') \n",
    "pylab.show()\n",
    "   \n",
    "pylab.imsave('NPE_face0',p, cmap=plt.cm.gray)\n",
    "embedding_train = np.matmul(projections, train_face)\n",
    "embedding_test = np.matmul(projections, test_face)\n",
    "''''' 训练KNN分类器 '''  \n",
    "clf = neighbors.KNeighborsClassifier(algorithm='auto',n_neighbors=options.KNN_neighbor, weights= 'distance')  \n",
    "clf.fit(embedding_train.T, train_label) \n",
    "\n",
    "\"\"\"测试准确率\"\"\"\n",
    "acc = np.float(sum(test_label==clf.predict(embedding_test.T))) / len(test_label)\n",
    "print acc"
   ]
  },
  {
   "cell_type": "code",
   "execution_count": 123,
   "metadata": {
    "collapsed": false
   },
   "outputs": [],
   "source": [
    "fig.savefig('test.png')"
   ]
  },
  {
   "cell_type": "code",
   "execution_count": 25,
   "metadata": {
    "collapsed": false
   },
   "outputs": [
    {
     "name": "stdout",
     "output_type": "stream",
     "text": [
      "0.6875\n"
     ]
    }
   ],
   "source": [
    "#### BaseLine\n",
    "clf = neighbors.KNeighborsClassifier(algorithm='auto',n_neighbors=1, weights= 'distance')  \n",
    "clf.fit(train_face.T, train_label) \n",
    "\"\"\"测试准确率\"\"\"\n",
    "acc = np.float(sum(test_label==clf.predict(test_face.T))) / len(test_label)\n",
    "print acc"
   ]
  }
 ],
 "metadata": {
  "kernelspec": {
   "display_name": "Python 2",
   "language": "python",
   "name": "python2"
  },
  "language_info": {
   "codemirror_mode": {
    "name": "ipython",
    "version": 2
   },
   "file_extension": ".py",
   "mimetype": "text/x-python",
   "name": "python",
   "nbconvert_exporter": "python",
   "pygments_lexer": "ipython2",
   "version": "2.7.6"
  }
 },
 "nbformat": 4,
 "nbformat_minor": 0
}

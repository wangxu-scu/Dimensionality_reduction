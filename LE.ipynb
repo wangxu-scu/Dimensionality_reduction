{
 "cells": [
  {
   "cell_type": "code",
   "execution_count": 1,
   "metadata": {
    "collapsed": true
   },
   "outputs": [],
   "source": [
    "import numpy as np\n",
    "import scipy.linalg as LA\n",
    "from load_mnist import loadImageSet, loadLabelSet\n",
    "\n",
    "%matplotlib inline\n",
    "import pylab\n",
    "import matplotlib.pyplot as plt\n",
    "from sklearn import neighbors\n",
    "import pdb\n"
   ]
  },
  {
   "cell_type": "markdown",
   "metadata": {},
   "source": [
    "# 数据加载"
   ]
  },
  {
   "cell_type": "code",
   "execution_count": 2,
   "metadata": {
    "collapsed": false
   },
   "outputs": [],
   "source": [
    "train_images = loadImageSet('MNIST_data/train-images-idx3-ubyte') \n",
    "train_labels = loadLabelSet('MNIST_data/train-labels-idx1-ubyte')\n",
    "\n",
    "test_images = loadImageSet('MNIST_data/t10k-images-idx3-ubyte') \n",
    "test_labels = loadLabelSet('MNIST_data/t10k-labels-idx1-ubyte')\n",
    "\n",
    "train_x = train_images[0:2000,:] /255.0\n",
    "train_x = train_x.T\n",
    "train_y = train_labels[0:2000]\n",
    "\n",
    "test_x = test_images[0:2000,:] /255.0 \n",
    "test_x = test_x.T\n",
    "test_y = test_labels[0:2000]"
   ]
  },
  {
   "cell_type": "markdown",
   "metadata": {},
   "source": [
    "# 可视化函数"
   ]
  },
  {
   "cell_type": "code",
   "execution_count": 3,
   "metadata": {
    "collapsed": false
   },
   "outputs": [],
   "source": [
    "#%%\n",
    "# 将降维后的数据可视化,2维\n",
    "def plot_embedding_2d(X, y, title=None, save_prefix=None):\n",
    "    #坐标缩放到[0,1]区间\n",
    "    x_min, x_max = np.min(X,axis=0), np.max(X,axis=0)\n",
    "    X = (X - x_min) / (x_max - x_min)\n",
    "\n",
    "    #降维后的坐标为（X[i, 0], X[i, 1]），在该位置画出对应的digits\n",
    "    fig = plt.figure()\n",
    "#     plt.axis([-2000, 2000,-2000,2000])\n",
    "    ax = fig.add_subplot(1, 1, 1)\n",
    "    for i in range(X.shape[0]):\n",
    "        ax.text(X[i, 0], X[i, 1],str(y[i]),\n",
    "                 color=plt.cm.Set1(y[i] / 10.),\n",
    "                 fontdict={'weight': 'bold', 'size': 9})\n",
    "\n",
    "    if title is not None:\n",
    "        plt.title(title)\n",
    "        plt.savefig(save_prefix+'_'+title.replace(' ','_')+\".png\") "
   ]
  },
  {
   "cell_type": "markdown",
   "metadata": {},
   "source": [
    "# 进行LE降维需要的函数"
   ]
  },
  {
   "cell_type": "code",
   "execution_count": 4,
   "metadata": {
    "collapsed": true
   },
   "outputs": [],
   "source": [
    "def EuclideanDistances(A, B):\n",
    "    BT = B.transpose()\n",
    "    # vecProd = A * BT\n",
    "    vecProd = np.dot(A,BT)\n",
    "    # print(vecProd)\n",
    "    SqA =  A**2\n",
    "    # print(SqA)\n",
    "    sumSqA = np.matrix(np.sum(SqA, axis=1))\n",
    "    sumSqAEx = np.tile(sumSqA.transpose(), (1, vecProd.shape[1]))\n",
    "    # print(sumSqAEx)\n",
    "\n",
    "    SqB = B**2\n",
    "    sumSqB = np.sum(SqB, axis=1)\n",
    "    sumSqBEx = np.tile(sumSqB, (vecProd.shape[0], 1))    \n",
    "    SqED = sumSqBEx + sumSqAEx - 2*vecProd\n",
    "    SqED[SqED<0]=0.0   \n",
    "    ED = np.array(np.sqrt(SqED))\n",
    "    return ED               "
   ]
  },
  {
   "cell_type": "code",
   "execution_count": 5,
   "metadata": {
    "collapsed": false
   },
   "outputs": [],
   "source": [
    "def get_neighbors_ind_and_distance(X, K=10):\n",
    "    \"\"\"\n",
    "    Param:\n",
    "        X: M * N matrix\n",
    "        Y: matrix\n",
    "        K: The number of neighbors of each point\n",
    "    \"\"\"    \n",
    "    M, N = X.shape\n",
    "#     X2 = np.sum(X**2, axis=0, keepdims=True)\n",
    "#     distance = np.tile(X2,(N,1))+np.tile(X2.T,(1,N))-2 * np.matmul(X.T, X)\n",
    "    distance = EuclideanDistances(X.T, X.T)\n",
    "    index = np.argsort(distance, axis=0)\n",
    "    neighborhood = index[1:(1+K),:]\n",
    "    return neighborhood, distance"
   ]
  },
  {
   "cell_type": "code",
   "execution_count": 7,
   "metadata": {
    "collapsed": false
   },
   "outputs": [],
   "source": [
    "def get_weight(neighborhood, distance, t=5.0):\n",
    "    N = distance.shape[0]\n",
    "    Weight = np.zeros((N,N))\n",
    "    for i in xrange(N):\n",
    "        d = distance[i][neighborhood[:,i]]\n",
    "        Weight[i][neighborhood[:,i]]= np.exp(-d**2/(4*t))\n",
    "    return Weight  "
   ]
  },
  {
   "cell_type": "code",
   "execution_count": 8,
   "metadata": {
    "collapsed": true
   },
   "outputs": [],
   "source": [
    "def get_degree_and_Laplacian_matrix(W):\n",
    "    D = np.sum(W, axis=1) ### 按行相加\n",
    "    D = np.diag(D)\n",
    "    L = D - W \n",
    "    return D, L"
   ]
  },
  {
   "cell_type": "code",
   "execution_count": 9,
   "metadata": {
    "collapsed": true
   },
   "outputs": [],
   "source": [
    "def get_embedding(L,D, d):\n",
    "#     N = M.shape[0]\n",
    "#     eigenValues, eigenVectors = LA.eig(M)\n",
    "    eigenvalue, eigenvector_right = LA.eig(L, D)\n",
    "    eigValInd=np.argsort(eigenvalue)\n",
    "    eigValInd=eigValInd[1:(d+1)]\n",
    "    Y_T = eigenvector_right[:, eigValInd]\n",
    "    Y = Y_T.T\n",
    "    return Y"
   ]
  },
  {
   "cell_type": "markdown",
   "metadata": {},
   "source": [
    "# 进行LE降维"
   ]
  },
  {
   "cell_type": "code",
   "execution_count": null,
   "metadata": {
    "collapsed": false,
    "scrolled": true
   },
   "outputs": [
    {
     "name": "stdout",
     "output_type": "stream",
     "text": [
      "N:5, t:5.0, acc:0.745\n",
      "N:5, t:25.0, acc:0.717\n",
      "N:5, t:100000.0, acc:0.712\n",
      "N:10, t:5.0, acc:0.606\n",
      "N:10, t:25.0, acc:0.612\n",
      "N:10, t:100000.0, acc:0.604\n",
      "N:15, t:5.0, acc:0.601\n",
      "N:15, t:25.0, acc:0.624\n",
      "N:15, t:100000.0, acc:0.606\n"
     ]
    }
   ],
   "source": [
    "K_list = [5,10,15]\n",
    "t_list=[5.0, 25.0, 100000.0]\n",
    "for K in K_list:\n",
    "    for t in t_list:\n",
    "        train_x_neighbor, train_distance = get_neighbors_ind_and_distance(train_x, K=K)\n",
    "        # train_distance = train_distance /train_distance.max()\n",
    "        train_W = get_weight(train_x_neighbor, train_distance, t=t)\n",
    "        D, L = get_degree_and_Laplacian_matrix(train_W)\n",
    "        embedding_train = get_embedding(L, D, d=2)\n",
    "        tr_Y = embedding_train[:,0:1000]\n",
    "        te_Y = embedding_train[:,1000:2000]\n",
    "        ''''' 训练KNN分类器 '''  \n",
    "        clf = neighbors.KNeighborsClassifier(algorithm='auto',n_neighbors=1, weights= 'distance')  \n",
    "        clf.fit(tr_Y.T, train_y[0:1000]) \n",
    "        \"\"\"测试准确率\"\"\"\n",
    "        acc = np.float(sum(train_y[1000:2000]==clf.predict(te_Y.T))) / len(train_y[1000:2000])\n",
    "        print (\"N:{}, t:{}, acc:{}\".format(K,t, acc))\n",
    "#         plot_embedding_2d(embedding_train.T, train_y, title=\"N=%d t=%f\" %(K, t), save_prefix='train')"
   ]
  },
  {
   "cell_type": "code",
   "execution_count": 10,
   "metadata": {
    "collapsed": false
   },
   "outputs": [
    {
     "name": "stderr",
     "output_type": "stream",
     "text": [
      "/usr/local/lib/python2.7/dist-packages/numpy/core/numeric.py:531: ComplexWarning: Casting complex values to real discards the imaginary part\n",
      "  return array(a, dtype, copy=False, order=order)\n",
      "/usr/local/lib/python2.7/dist-packages/sklearn/utils/validation.py:373: ComplexWarning: Casting complex values to real discards the imaginary part\n",
      "  array = np.array(array, dtype=dtype, order=order, copy=copy)\n"
     ]
    },
    {
     "name": "stdout",
     "output_type": "stream",
     "text": [
      "N:5, t:5.0, acc:0.611\n",
      "N:5, t:25.0, acc:0.612\n",
      "N:5, t:100000.0, acc:0.628\n",
      "N:10, t:5.0, acc:0.6\n",
      "N:10, t:25.0, acc:0.594\n",
      "N:10, t:100000.0, acc:0.572\n",
      "N:15, t:5.0, acc:0.568\n",
      "N:15, t:25.0, acc:0.547\n",
      "N:15, t:100000.0, acc:0.546\n"
     ]
    }
   ],
   "source": [
    "K_list = [5,10,15]\n",
    "t_list=[5.0, 25.0, 100000.0]\n",
    "for K in K_list:\n",
    "    for t in t_list:\n",
    "        test_x_neighbor, test_distance = get_neighbors_ind_and_distance(test_x, K=K)\n",
    "        # train_distance = train_distance /train_distance.max()\n",
    "        test_W = get_weight(test_x_neighbor, test_distance, t=t)\n",
    "        D, L = get_degree_and_Laplacian_matrix(test_W)\n",
    "        embedding_test = get_embedding(L, D, d=2)\n",
    "        tr_Y = embedding_test[:,0:1000]\n",
    "        te_Y = embedding_test[:,1000:2000]\n",
    "        ''''' 训练KNN分类器 '''  \n",
    "        clf = neighbors.KNeighborsClassifier(algorithm='auto',n_neighbors=1, weights= 'distance')  \n",
    "        clf.fit(tr_Y.T, test_y[0:1000]) \n",
    "        \"\"\"测试准确率\"\"\"\n",
    "        acc = np.float(sum(test_y[1000:2000]==clf.predict(te_Y.T))) / len(test_y[1000:2000])\n",
    "        print (\"N:{}, t:{}, acc:{}\".format(K,t, acc))\n",
    "#         plot_embedding_2d(embedding_test.T, test_y, title=\"N=%d t=%f\" %(K, t), save_prefix='test')"
   ]
  },
  {
   "cell_type": "code",
   "execution_count": null,
   "metadata": {
    "collapsed": true
   },
   "outputs": [],
   "source": []
  }
 ],
 "metadata": {
  "kernelspec": {
   "display_name": "Python 2",
   "language": "python",
   "name": "python2"
  },
  "language_info": {
   "codemirror_mode": {
    "name": "ipython",
    "version": 2
   },
   "file_extension": ".py",
   "mimetype": "text/x-python",
   "name": "python",
   "nbconvert_exporter": "python",
   "pygments_lexer": "ipython2",
   "version": "2.7.6"
  }
 },
 "nbformat": 4,
 "nbformat_minor": 0
}

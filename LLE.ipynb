{
 "cells": [
  {
   "cell_type": "code",
   "execution_count": 1,
   "metadata": {
    "collapsed": true
   },
   "outputs": [],
   "source": [
    "import numpy as np\n",
    "import numpy.linalg as LA\n",
    "from load_mnist import loadImageSet, loadLabelSet\n",
    "\n",
    "%matplotlib inline\n",
    "import pylab\n",
    "import matplotlib.pyplot as plt\n",
    "from sklearn import neighbors\n",
    "import pdb\n"
   ]
  },
  {
   "cell_type": "markdown",
   "metadata": {},
   "source": [
    "# 数据加载"
   ]
  },
  {
   "cell_type": "code",
   "execution_count": 2,
   "metadata": {
    "collapsed": false
   },
   "outputs": [],
   "source": [
    "train_images = loadImageSet('MNIST_data/train-images-idx3-ubyte') \n",
    "train_labels = loadLabelSet('MNIST_data/train-labels-idx1-ubyte')\n",
    "\n",
    "test_images = loadImageSet('MNIST_data/t10k-images-idx3-ubyte') \n",
    "test_labels = loadLabelSet('MNIST_data/t10k-labels-idx1-ubyte')\n",
    "\n",
    "train_x = train_images[0:2000,:] /255.0\n",
    "train_x = train_x.T\n",
    "train_y = train_labels[0:2000]\n",
    "\n",
    "test_x = test_images[0:2000,:] /255.0 \n",
    "test_x = test_x.T\n",
    "test_y = test_labels[0:2000]"
   ]
  },
  {
   "cell_type": "markdown",
   "metadata": {},
   "source": [
    "# 可视化函数"
   ]
  },
  {
   "cell_type": "code",
   "execution_count": 3,
   "metadata": {
    "collapsed": false
   },
   "outputs": [],
   "source": [
    "#%%\n",
    "# 将降维后的数据可视化,2维\n",
    "def plot_embedding_2d(X, y, title=None):\n",
    "    #坐标缩放到[0,1]区间\n",
    "    x_min, x_max = np.min(X,axis=0), np.max(X,axis=0)\n",
    "    X = (X - x_min) / (x_max - x_min)\n",
    "\n",
    "    #降维后的坐标为（X[i, 0], X[i, 1]），在该位置画出对应的digits\n",
    "    fig = plt.figure()\n",
    "#     plt.axis([-2000, 2000,-2000,2000])\n",
    "    ax = fig.add_subplot(1, 1, 1)\n",
    "    for i in range(X.shape[0]):\n",
    "        ax.text(X[i, 0], X[i, 1],str(y[i]),\n",
    "                 color=plt.cm.Set1(y[i] / 10.),\n",
    "                 fontdict={'weight': 'bold', 'size': 9})\n",
    "\n",
    "    if title is not None:\n",
    "        plt.title(title)\n",
    "#         plt.savefig(title.replace(' ','_')+\".png\") "
   ]
  },
  {
   "cell_type": "markdown",
   "metadata": {},
   "source": [
    "# 进行LLE降维需要的函数"
   ]
  },
  {
   "cell_type": "code",
   "execution_count": 4,
   "metadata": {
    "collapsed": true
   },
   "outputs": [],
   "source": [
    "def EuclideanDistances(A, B):\n",
    "    BT = B.transpose()\n",
    "    # vecProd = A * BT\n",
    "    vecProd = np.dot(A,BT)\n",
    "    # print(vecProd)\n",
    "    SqA =  A**2\n",
    "    # print(SqA)\n",
    "    sumSqA = np.matrix(np.sum(SqA, axis=1))\n",
    "    sumSqAEx = np.tile(sumSqA.transpose(), (1, vecProd.shape[1]))\n",
    "    # print(sumSqAEx)\n",
    "\n",
    "    SqB = B**2\n",
    "    sumSqB = np.sum(SqB, axis=1)\n",
    "    sumSqBEx = np.tile(sumSqB, (vecProd.shape[0], 1))    \n",
    "    SqED = sumSqBEx + sumSqAEx - 2*vecProd\n",
    "    SqED[SqED<0]=0.0   \n",
    "    ED = np.array(np.sqrt(SqED))\n",
    "    return ED"
   ]
  },
  {
   "cell_type": "code",
   "execution_count": 5,
   "metadata": {
    "collapsed": false
   },
   "outputs": [],
   "source": [
    "def get_neighbors_ind(X, K=10):\n",
    "    \"\"\"\n",
    "    Param:\n",
    "        X: M * N matrix\n",
    "        Y: matrix\n",
    "        K: The number of neighbors of each point\n",
    "    \"\"\"    \n",
    "#     M, N = X.shape\n",
    "#     X2 = np.sum(X**2, axis=0, keepdims=True)\n",
    "#     distance = np.tile(X2,(N,1))+np.tile(X2.T,(1,N))-2 * np.matmul(X.T, X)\n",
    "    distance = EuclideanDistances(X.T, X.T)\n",
    "    index = np.argsort(distance, axis=0)\n",
    "    neighborhood = index[1:(1+K),:]                                    \n",
    "    return neighborhood"
   ]
  },
  {
   "cell_type": "code",
   "execution_count": 6,
   "metadata": {
    "collapsed": true
   },
   "outputs": [],
   "source": [
    "def get_neighbors_ind2(X, K=10):\n",
    "    \"\"\"\n",
    "    Param:\n",
    "        X: M * N matrix\n",
    "        Y: matrix\n",
    "        K: The number of neighbors of each point\n",
    "    \"\"\"    \n",
    "    M, N = X.shape\n",
    "    X2 = np.sum(X**2, axis=0, keepdims=True)\n",
    "    distance = np.tile(X2,(N,1))+np.tile(X2.T,(1,N))-2 * np.matmul(X.T, X)\n",
    "#     distance = EuclideanDistances(X.T, X.T)\n",
    "    index = np.argsort(distance, axis=0)\n",
    "    neighborhood = index[1:(1+K),:]                                    \n",
    "    return neighborhood"
   ]
  },
  {
   "cell_type": "code",
   "execution_count": 7,
   "metadata": {
    "collapsed": false
   },
   "outputs": [],
   "source": [
    "def get_weight(X, neighborhood):\n",
    "    M, N = X.shape\n",
    "    K = neighborhood.shape[0]\n",
    "    if K > M:\n",
    "        tol=1e-3\n",
    "    else:\n",
    "        tol=0\n",
    "    W = np.zeros((N, N))\n",
    "    for i in xrange(N):\n",
    "        z = X[:,neighborhood[:,i]] - np.expand_dims(X[:,i], 1)\n",
    "        G = np.matmul(z.T, z)\n",
    "        G = G + np.identity(K) * tol * np.trace(G)\n",
    "        \n",
    "        G_I = LA.inv(G)\n",
    "        W[i,neighborhood[:,i]] = np.matmul(G_I, np.ones(K))  # np.matmul(G_I, np.ones(K)) 的结果是一个列向量，我们将其放在W的行中\n",
    "        W[i,neighborhood[:,i]] = W[i, neighborhood[:,i]] / np.sum(W[i,:])  \n",
    "#         W[:,i]=np.sum(G_I, axis=1) / np.sum(G_I)\n",
    "    return W   "
   ]
  },
  {
   "cell_type": "code",
   "execution_count": 8,
   "metadata": {
    "collapsed": true
   },
   "outputs": [],
   "source": [
    "def get_LLE_matrix(W):\n",
    "    N = W.shape[1]\n",
    "    I = np.identity(N)\n",
    "    M = np.matmul((I-W.T),(I-W))\n",
    "    return M"
   ]
  },
  {
   "cell_type": "code",
   "execution_count": 9,
   "metadata": {
    "collapsed": true
   },
   "outputs": [],
   "source": [
    "def get_embedding(M, d):\n",
    "    N = M.shape[0]\n",
    "    eigenValues, eigenVectors = LA.eig(M)\n",
    "    eigValInd=np.argsort(eigenValues)\n",
    "    eigValInd=eigValInd[1:(d+1)]\n",
    "    Y_T = eigenVectors[:, eigValInd]\n",
    "    Y = Y_T.T\n",
    "    return Y"
   ]
  },
  {
   "cell_type": "code",
   "execution_count": 10,
   "metadata": {
    "collapsed": true
   },
   "outputs": [],
   "source": [
    "train_x_neighbor = get_neighbors_ind(train_x, K=9)\n",
    "W = get_weight(train_x, train_x_neighbor)"
   ]
  },
  {
   "cell_type": "markdown",
   "metadata": {},
   "source": [
    "# 对训练数据进行LLE降维"
   ]
  },
  {
   "cell_type": "code",
   "execution_count": 10,
   "metadata": {
    "collapsed": false
   },
   "outputs": [
    {
     "data": {
      "image/png": "[encoded data removed]",
      "text/plain": [
       "<matplotlib.figure.Figure at 0x7f23c43f01d0>"
      ]
     },
     "metadata": {},
     "output_type": "display_data"
    }
   ],
   "source": [
    "train_x_neighbor = get_neighbors_ind(train_x, K=9)\n",
    "W = get_weight(train_x, train_x_neighbor)\n",
    "M = get_LLE_matrix(W)\n",
    "embedding_train = get_embedding(M, d=2)\n",
    "plot_embedding_2d(embedding_train.T, train_y, title='(a) LLE(K=9) for train data')"
   ]
  },
  {
   "cell_type": "markdown",
   "metadata": {},
   "source": [
    "# 对测试数据进行LLE降维"
   ]
  },
  {
   "cell_type": "code",
   "execution_count": 11,
   "metadata": {
    "collapsed": false
   },
   "outputs": [],
   "source": [
    "test_x_neighbor = get_neighbors_ind(test_x, K=9)\n",
    "W = get_weight(test_x, test_x_neighbor)\n",
    "M = get_LLE_matrix(W)\n",
    "embedding_test = get_embedding(M, d=2)\n",
    "# plot_embedding_2d(embedding_test.T, test_y, title='(b) LLE(K=9) for test data')"
   ]
  },
  {
   "cell_type": "markdown",
   "metadata": {},
   "source": [
    "# 对test数据使用train数据进行最近邻插值"
   ]
  },
  {
   "cell_type": "code",
   "execution_count": 12,
   "metadata": {
    "collapsed": true
   },
   "outputs": [],
   "source": [
    "def get_weight_interpolation(test_X, train_X, neighborhood):\n",
    "    X = test_X\n",
    "    M, N = X.shape\n",
    "    K = neighborhood.shape[1]\n",
    "    if K > M:\n",
    "        tol=1e-3\n",
    "    else:\n",
    "        tol=0\n",
    "    W = np.zeros((N, N))\n",
    "    for i in xrange(N):\n",
    "        z = np.expand_dims(X[:,i], 1) - train_X[:,neighborhood[i,:]]\n",
    "        G = np.matmul(z.T, z)\n",
    "        G = G + np.identity(K) * tol * np.trace(G)\n",
    "        \n",
    "        G_I = LA.inv(G)\n",
    "        W[i,neighborhood[i,:]] = np.matmul(G_I, np.ones(K))  # np.matmul(G_I, np.ones(K)) 的结果是一个列向量，我们将其放在W的行中\n",
    "        W[i,neighborhood[i,:]] = W[i, neighborhood[i,:]] / np.sum(W[i,:])  \n",
    "#         W[:,i]=np.sum(G_I, axis=1) / np.sum(G_I)\n",
    "    return W   "
   ]
  },
  {
   "cell_type": "code",
   "execution_count": null,
   "metadata": {
    "collapsed": true
   },
   "outputs": [],
   "source": [
    "### 对test数据使用train数据进行最近邻插值\n",
    "distance = EuclideanDistances(test_x.T, train_x.T)\n",
    "index = np.argsort(distance, axis=1)\n",
    "neighborhood = index[:,0:K] \n",
    "W = get_weight_interpolation(test_x, train_x, neighborhood)\n",
    "embedding_interpolation_test = np.matmul(W,embedding_train.T)\n",
    "embedding_interpolation_test = embedding_interpolation_test.T\n"
   ]
  },
  {
   "cell_type": "markdown",
   "metadata": {},
   "source": [
    "# 调库实现KNN"
   ]
  },
  {
   "cell_type": "code",
   "execution_count": 19,
   "metadata": {
    "collapsed": false
   },
   "outputs": [
    {
     "data": {
      "text/plain": [
       "KNeighborsClassifier(algorithm='auto', leaf_size=30, metric='minkowski',\n",
       "           metric_params=None, n_jobs=1, n_neighbors=1, p=2,\n",
       "           weights='distance')"
      ]
     },
     "execution_count": 19,
     "metadata": {},
     "output_type": "execute_result"
    }
   ],
   "source": [
    "''''' 训练KNN分类器 '''  \n",
    "clf = neighbors.KNeighborsClassifier(algorithm='auto',n_neighbors=1, weights= 'distance')  \n",
    "clf.fit(embedding_train.T, train_y) "
   ]
  },
  {
   "cell_type": "code",
   "execution_count": 27,
   "metadata": {
    "collapsed": false
   },
   "outputs": [
    {
     "name": "stdout",
     "output_type": "stream",
     "text": [
      "0.8675\n"
     ]
    }
   ],
   "source": [
    "\"\"\"测试准确率\"\"\"\n",
    "acc = np.float(sum(test_y==clf.predict(embedding_interpolation_test.T))) / len(test_y)\n",
    "print acc"
   ]
  },
  {
   "cell_type": "code",
   "execution_count": null,
   "metadata": {
    "collapsed": true
   },
   "outputs": [],
   "source": []
  }
 ],
 "metadata": {
  "kernelspec": {
   "display_name": "Python 2",
   "language": "python",
   "name": "python2"
  },
  "language_info": {
   "codemirror_mode": {
    "name": "ipython",
    "version": 2
   },
   "file_extension": ".py",
   "mimetype": "text/x-python",
   "name": "python",
   "nbconvert_exporter": "python",
   "pygments_lexer": "ipython2",
   "version": "2.7.6"
  }
 },
 "nbformat": 4,
 "nbformat_minor": 0
}

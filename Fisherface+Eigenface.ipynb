{
 "cells": [
  {
   "cell_type": "code",
   "execution_count": 1,
   "metadata": {
    "collapsed": true
   },
   "outputs": [],
   "source": [
    "import scipy\n",
    "import numpy as np\n",
    "import numpy.linalg as LA\n",
    "\n",
    "%matplotlib inline\n",
    "import pylab\n",
    "import matplotlib.pyplot as plt\n",
    "from sklearn import neighbors\n",
    "import pdb\n"
   ]
  },
  {
   "cell_type": "markdown",
   "metadata": {},
   "source": [
    "# 数据加载"
   ]
  },
  {
   "cell_type": "code",
   "execution_count": 202,
   "metadata": {
    "collapsed": false
   },
   "outputs": [],
   "source": [
    "import scipy.io as sio\n",
    "\n",
    "def load_Yale_data(randomsplit):\n",
    "    #matlab文件名\n",
    "    matfn=u'face_data/Yale/Yale_32x32.mat'\n",
    "    data=sio.loadmat(matfn)\n",
    "    face = data['fea']\n",
    "    label = data['gnd'] - 1 ### python 从0 开始\n",
    "    face = face  / 255.0\n",
    "\n",
    "    #### 显示第一张图像\n",
    "#     f1 = face[5].reshape((32,32)).T\n",
    "#     pylab.imshow(f1, cmap=plt.cm.gray), pylab.show()\n",
    "\n",
    "    ###  p = 6, randomsplit = 1\n",
    "    matfn = u'face_data/Yale/6Train/'+str(randomsplit)+'.mat'\n",
    "    index = sio.loadmat(matfn)\n",
    "    testIdx = index['testIdx'] -1    ### python 从0 开始\n",
    "    trainIdx = index['trainIdx'] -1  ### python 从0 开始\n",
    "\n",
    "    train_face = face[trainIdx]\n",
    "    test_face = face[testIdx]\n",
    "    train_face = np.squeeze(train_face)  ## 将维度为1去掉\n",
    "    test_face = np.squeeze(test_face)    ## 将维度为1去掉\n",
    "    train_face = train_face.T ### 将数据维度变为: 样本维度 x 样本个数\n",
    "    test_face = test_face.T ### 将数据维度变为: 样本维度 x 样本个数\n",
    "    train_label = np.squeeze(label[trainIdx])\n",
    "    test_label = np.squeeze(label[testIdx])\n",
    "    return train_face, test_face, train_label, test_label\n",
    "\n",
    "def load_ORL_data(randomsplit):\n",
    "    #matlab文件名\n",
    "    matfn=u'face_data/ORL/ORL_32x32.mat'\n",
    "    data=sio.loadmat(matfn)\n",
    "    face = data['fea']\n",
    "    label = data['gnd'] - 1 ### python 从0 开始\n",
    "    face = face  / 255.0\n",
    "\n",
    "    #### 显示第一张图像\n",
    "#     f1 = face[5].reshape((32,32)).T\n",
    "#     pylab.imshow(f1, cmap=plt.cm.gray), pylab.show()\n",
    "\n",
    "    ###  p = 6, randomsplit = 1\n",
    "    matfn = u'face_data/ORL/6Train/'+str(randomsplit)+'.mat'\n",
    "    index = sio.loadmat(matfn)\n",
    "    testIdx = index['testIdx'] -1    ### python 从0 开始\n",
    "    trainIdx = index['trainIdx'] -1  ### python 从0 开始\n",
    "\n",
    "    train_face = face[trainIdx]\n",
    "    test_face = face[testIdx]\n",
    "    train_face = np.squeeze(train_face)  ## 将维度为1去掉\n",
    "    test_face = np.squeeze(test_face)    ## 将维度为1去掉\n",
    "    train_face = train_face.T ### 将数据维度变为: 样本维度 x 样本个数\n",
    "    test_face = test_face.T ### 将数据维度变为: 样本维度 x 样本个数\n",
    "    train_label = np.squeeze(label[trainIdx])\n",
    "    test_label = np.squeeze(label[testIdx])\n",
    "    return train_face, test_face, train_label, test_label"
   ]
  },
  {
   "cell_type": "markdown",
   "metadata": {},
   "source": [
    "# BaseLine"
   ]
  },
  {
   "cell_type": "code",
   "execution_count": 203,
   "metadata": {
    "collapsed": false
   },
   "outputs": [
    {
     "name": "stdout",
     "output_type": "stream",
     "text": [
      "39.28 4.03724878819\n"
     ]
    }
   ],
   "source": [
    "acc_list = []\n",
    "for i in xrange(1,51):\n",
    "    train_face, test_face, train_label, test_label = load_Yale_data(randomsplit=i)\n",
    "    mn = np.mean(train_face, keepdims=True, axis=1)\n",
    "    train_face = train_face - mn\n",
    "    test_face = test_face - mn\n",
    "    clf = neighbors.KNeighborsClassifier(algorithm='auto',n_neighbors=1, weights= 'distance')  \n",
    "    clf.fit(train_face.T, train_label) \n",
    "    \"\"\"测试准确率\"\"\"\n",
    "    acc = np.float(sum(test_label==clf.predict(test_face.T))) / len(test_label)\n",
    "    acc_list.append(acc)\n",
    "print 100.0-np.mean(acc_list)*100, np.std(acc_list)*100"
   ]
  },
  {
   "cell_type": "markdown",
   "metadata": {},
   "source": [
    "# EigenFace"
   ]
  },
  {
   "cell_type": "code",
   "execution_count": 204,
   "metadata": {
    "collapsed": true
   },
   "outputs": [],
   "source": [
    "def PCA(data, K=2):  \n",
    "    \"\"\"\n",
    "    data : M x N matrix (M dimensions, N samples)\n",
    "    K: The final reduced dimension\n",
    "    \"\"\"\n",
    "#     M, N = data.shape\n",
    "#     mn = np.mean(data, keepdims=True, axis=1)\n",
    "# #     data = data - mn\n",
    "#     covariance = np.matmul(data, np.transpose(data)) / (N-1)\n",
    "#     eigenValues, eigenVectors = LA.eig(covariance)\n",
    "#     eigValInd=np.argsort(eigenValues)\n",
    "#     eigValInd=eigValInd[::-1][0:K]\n",
    "#     principalEigVects=eigenVectors[:,eigValInd]\n",
    "#     lowDimData=np.matmul(np.transpose(data), principalEigVects)\n",
    "    M, N = data.shape\n",
    "    mn = np.mean(data, keepdims=True, axis=1)\n",
    "#     data = data - mn\n",
    "#     print data.shape\n",
    "    U, S, V = LA.svd(data, full_matrices=True)\n",
    "    principalEigVects= np.transpose(U)[0:K,:]\n",
    "    \n",
    "    return principalEigVects.T"
   ]
  },
  {
   "cell_type": "code",
   "execution_count": null,
   "metadata": {
    "collapsed": true
   },
   "outputs": [],
   "source": []
  },
  {
   "cell_type": "code",
   "execution_count": 205,
   "metadata": {
    "collapsed": false
   },
   "outputs": [
    {
     "name": "stdout",
     "output_type": "stream",
     "text": [
      "39.92 4.5208455453\n"
     ]
    }
   ],
   "source": [
    "acc_list = []\n",
    "for i in xrange(1,51):\n",
    "    train_face, test_face, train_label, test_label = load_Yale_data(randomsplit=i)\n",
    "    mn = np.mean(train_face, keepdims=True, axis=1)\n",
    "    train_face = train_face - mn\n",
    "    test_face = test_face - mn\n",
    "    Eigen_faces = PCA(train_face, K=32)\n",
    "    ##train数据\n",
    "    lowDim_TrainData = np.matmul(Eigen_faces.T, train_face)\n",
    "    ##test数据\n",
    "    lowDim_TestData = np.matmul(Eigen_faces.T, test_face)\n",
    "    clf = neighbors.KNeighborsClassifier(algorithm='auto',n_neighbors=1, weights= 'distance')  \n",
    "    clf.fit(lowDim_TrainData.T, train_label) \n",
    "    \"\"\"测试准确率\"\"\"\n",
    "    acc = np.float(sum(test_label==clf.predict(lowDim_TestData.T))) / len(test_label)\n",
    "    acc_list.append(acc)\n",
    "print 100.0-np.mean(acc_list)*100, np.std(acc_list)*100"
   ]
  },
  {
   "cell_type": "code",
   "execution_count": 206,
   "metadata": {
    "collapsed": false
   },
   "outputs": [
    {
     "data": {
      "image/png": "[encoded data removed]",
      "text/plain": [
       "<matplotlib.figure.Figure at 0x7fa7a8148110>"
      ]
     },
     "metadata": {},
     "output_type": "display_data"
    }
   ],
   "source": [
    "###保存Eigenfaces的图像\n",
    "n_row = 10  ###显示多少张图像\n",
    "fig = pylab.figure()\n",
    "for i in range(n_row):\n",
    "    p = Eigen_faces[:,i].reshape((32,32)).T\n",
    "    fig.add_subplot(1, n_row, i+1)\n",
    "    pylab.imshow(p, cmap=plt.cm.gray)\n",
    "    pylab.axis('off') \n",
    "pylab.show()   \n",
    "fig.savefig('Eigenfaces.png')"
   ]
  },
  {
   "cell_type": "markdown",
   "metadata": {},
   "source": [
    "# FisherFace"
   ]
  },
  {
   "cell_type": "code",
   "execution_count": 209,
   "metadata": {
    "collapsed": true
   },
   "outputs": [],
   "source": [
    "def get_SB(data, label):  ### Get the between-class scatter matrix\n",
    "    \"\"\"\n",
    "    data : M x N matrix (M dimensions, N samples)\n",
    "    label: The label\n",
    "    \"\"\"\n",
    "    M, N = data.shape\n",
    "    mu = np.mean(data, keepdims=True, axis=1)  ### 全部样本数据的均值\n",
    "    C = label.max() + 1  ### label的个数\n",
    "    S_B = np.zeros((M, M)) ### 类间散度矩阵\n",
    "    for i in xrange(C):\n",
    "        i_index_list = [ind for ind, x in enumerate(label) if x == i]  ### 第i类label对应的下标\n",
    "        data_i = data[:,i_index_list]  ### 第i类样本数据\n",
    "        mu_i = np.mean(data_i, keepdims=True, axis=1)  ### 第i类样本数据的均值\n",
    "\n",
    "        N_i= len(i_index_list)  ### 第i类样本数据的数量\n",
    "        Sb_i = N_i * np.matmul((mu_i-mu), (mu_i-mu).T)\n",
    "        S_B = S_B + Sb_i\n",
    "    return S_B\n",
    "\n",
    "def get_SW(data, label): ### Get the within-class scatter matrix\n",
    "    \"\"\"\n",
    "    data : M x N matrix (M dimensions, N samples)\n",
    "    label: The label\n",
    "    \"\"\"\n",
    "    M, N = data.shape\n",
    "    C = label.max() + 1  ### 类的个数\n",
    "    S_W = np.zeros((M, M)) ### 类内散度矩阵\n",
    "    for i in xrange(C):\n",
    "        i_index_list = [ind for ind, x in enumerate(label) if x == i]  ### 第i类label对应的下标\n",
    "        data_i = data[:,i_index_list]  ### 第i类样本数据\n",
    "        mu_i = np.mean(data_i, keepdims=True, axis=1)  ### 第i类样本数据的均值\n",
    "        Sw_i = np.matmul((data_i - mu_i), (data_i - mu_i).T)\n",
    "        S_W = S_W + Sw_i\n",
    "    return S_W\n",
    "\n",
    "def LDA(data, label, K=14):\n",
    "    S_B = get_SB(data, label)\n",
    "    S_W = get_SW(data, label)\n",
    "    N = len(label) ### 样本数量\n",
    "    C = label.max() + 1  ### 类的个数\n",
    "    \n",
    "    #### 先执行PCA将原始数据的维度降到(N-C)维，用以解决S_W的奇异性问题####\n",
    "    S_T = S_W + S_B\n",
    "    eigenValues, eigenVectors = LA.eig(S_T)\n",
    "    eigValInd = np.argsort(eigenValues)\n",
    "    eigValInd = eigValInd[::-1][0:(N-C)]\n",
    "    W_pca = eigenVectors[:,eigValInd]\n",
    "    \n",
    "    ##### 再执行FLD过程#######\n",
    "    S_B_bar = np.matmul(np.matmul(W_pca.T, S_B), W_pca)\n",
    "    S_W_bar = np.matmul(np.matmul(W_pca.T, S_W), W_pca)\n",
    "    eigenValues, eigenVectors = LA.eig(np.matmul(LA.inv(S_W_bar), S_B_bar))\n",
    "\n",
    "    eigValInd = np.argsort(eigenValues)\n",
    "    eigValInd = eigValInd[::-1][0:K]\n",
    "    W_fld = eigenVectors[:,eigValInd]\n",
    "    \n",
    "    #### 得到最优 W ###\n",
    "    W_opt = np.matmul(W_pca, W_fld)\n",
    "    return W_opt"
   ]
  },
  {
   "cell_type": "code",
   "execution_count": 201,
   "metadata": {
    "collapsed": false
   },
   "outputs": [],
   "source": [
    "train_face, test_face, train_label, test_label = load_Yale_data(randomsplit=5)\n",
    "Fisherfaces = LDA(train_face, train_label, K=14).real"
   ]
  },
  {
   "cell_type": "code",
   "execution_count": 197,
   "metadata": {
    "collapsed": false
   },
   "outputs": [
    {
     "data": {
      "text/plain": [
       "(1024, 14)"
      ]
     },
     "execution_count": 197,
     "metadata": {},
     "output_type": "execute_result"
    }
   ],
   "source": [
    "Fisherfaces.shape"
   ]
  },
  {
   "cell_type": "code",
   "execution_count": 210,
   "metadata": {
    "collapsed": false
   },
   "outputs": [
    {
     "data": {
      "image/png": "[encoded data removed]",
      "text/plain": [
       "<matplotlib.figure.Figure at 0x7fa7a8486b10>"
      ]
     },
     "metadata": {},
     "output_type": "display_data"
    }
   ],
   "source": [
    "###保存Fisherfaces的图像\n",
    "n_row = 10  ###显示多少张图像\n",
    "fig = pylab.figure()\n",
    "for i in range(n_row):\n",
    "    p = Fisherfaces[:,i].reshape((32,32)).T\n",
    "    fig.add_subplot(1, n_row, i+1)\n",
    "    pylab.imshow(p, cmap=plt.cm.gray)\n",
    "    pylab.axis('off') \n",
    "pylab.show()   \n",
    "fig.savefig('Fisherfaces.png')"
   ]
  },
  {
   "cell_type": "code",
   "execution_count": 211,
   "metadata": {
    "collapsed": false
   },
   "outputs": [
    {
     "name": "stdout",
     "output_type": "stream",
     "text": [
      "22.4533333333 4.09105256763\n"
     ]
    }
   ],
   "source": [
    "acc_list = []\n",
    "for i in xrange(1,51):\n",
    "    train_face, test_face, train_label, test_label = load_Yale_data(randomsplit=i)\n",
    "    mn = np.mean(train_face, keepdims=True, axis=1)\n",
    "    train_face = train_face - mn\n",
    "    test_face = test_face - mn\n",
    "    Fisherfaces = LDA(train_face, train_label, K=14)\n",
    "    ##对train数据进行LDA降维\n",
    "    lowDim_TrainData = np.matmul(Fisherfaces.T, train_face)\n",
    "    ##对test数据进行LDA降维\n",
    "    lowDim_TestData = np.matmul(Fisherfaces.T, test_face)\n",
    "    clf = neighbors.KNeighborsClassifier(algorithm='auto',n_neighbors=1, weights= 'distance')  \n",
    "    clf.fit(lowDim_TrainData.T, train_label) \n",
    "    \"\"\"测试准确率\"\"\"\n",
    "    acc = np.float(sum(test_label==clf.predict(lowDim_TestData.T))) / len(test_label)\n",
    "    acc_list.append(acc)\n",
    "print 100.0-np.mean(acc_list)*100, np.std(acc_list)*100"
   ]
  },
  {
   "cell_type": "code",
   "execution_count": 187,
   "metadata": {
    "collapsed": false
   },
   "outputs": [
    {
     "name": "stdout",
     "output_type": "stream",
     "text": [
      "0.8\n"
     ]
    }
   ],
   "source": [
    "train_face, test_face, train_label, test_label = load_Yale_data(randomsplit=5)\n",
    "mn = np.mean(train_face, keepdims=True, axis=1)\n",
    "train_face = train_face - mn\n",
    "test_face = test_face - mn\n",
    "Fisherfaces = LDA(train_face, train_label, K=14)\n",
    "##对train数据进行LDA降维\n",
    "lowDim_TrainData = np.matmul(Fisherfaces.T, train_face)\n",
    "##对test数据进行LDA降维\n",
    "lowDim_TestData = np.matmul(Fisherfaces.T, test_face)\n",
    "clf = neighbors.KNeighborsClassifier(algorithm='auto',n_neighbors=1, weights= 'distance')  \n",
    "clf.fit(lowDim_TrainData.T, train_label) \n",
    "\"\"\"测试准确率\"\"\"\n",
    "acc = np.float(sum(test_label==clf.predict(lowDim_TestData.T))) / len(test_label)\n",
    "print acc"
   ]
  }
 ],
 "metadata": {
  "kernelspec": {
   "display_name": "Python 2",
   "language": "python",
   "name": "python2"
  },
  "language_info": {
   "codemirror_mode": {
    "name": "ipython",
    "version": 2
   },
   "file_extension": ".py",
   "mimetype": "text/x-python",
   "name": "python",
   "nbconvert_exporter": "python",
   "pygments_lexer": "ipython2",
   "version": "2.7.6"
  }
 },
 "nbformat": 4,
 "nbformat_minor": 0
}
